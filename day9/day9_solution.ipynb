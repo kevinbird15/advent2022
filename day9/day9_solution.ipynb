{
 "cells": [
  {
   "cell_type": "markdown",
   "id": "60a5c3c7",
   "metadata": {},
   "source": [
    "# Day 9 Solution"
   ]
  },
  {
   "cell_type": "code",
   "execution_count": 1,
   "id": "596a2410",
   "metadata": {
    "ExecuteTime": {
     "end_time": "2022-12-09T06:39:55.587327Z",
     "start_time": "2022-12-09T06:39:54.267756Z"
    }
   },
   "outputs": [
    {
     "name": "stdout",
     "output_type": "stream",
     "text": [
      "Defaulting to user installation because normal site-packages is not writeable\n",
      "Looking in indexes: https://pypi.org/simple, https://download.pytorch.org/whl/cu116\n",
      "Requirement already satisfied: numpy in /home/dev/.local/lib/python3.9/site-packages (1.23.5)\n",
      "Note: you may need to restart the kernel to use updated packages.\n"
     ]
    }
   ],
   "source": [
    "pip install numpy"
   ]
  },
  {
   "cell_type": "code",
   "execution_count": 2,
   "id": "a7f3c645",
   "metadata": {
    "ExecuteTime": {
     "end_time": "2022-12-09T06:39:55.660392Z",
     "start_time": "2022-12-09T06:39:55.589201Z"
    }
   },
   "outputs": [],
   "source": [
    "import numpy as np"
   ]
  },
  {
   "cell_type": "code",
   "execution_count": 3,
   "id": "31cbb4b5",
   "metadata": {
    "ExecuteTime": {
     "end_time": "2022-12-09T06:39:55.665270Z",
     "start_time": "2022-12-09T06:39:55.662201Z"
    }
   },
   "outputs": [],
   "source": [
    "input_data = open('input_data.txt', newline='\\n').read()"
   ]
  },
  {
   "cell_type": "markdown",
   "id": "3dbe45e8",
   "metadata": {},
   "source": [
    "### Problem #1"
   ]
  },
  {
   "cell_type": "code",
   "execution_count": 4,
   "id": "20091c2c",
   "metadata": {
    "ExecuteTime": {
     "end_time": "2022-12-09T06:39:55.673175Z",
     "start_time": "2022-12-09T06:39:55.666597Z"
    }
   },
   "outputs": [],
   "source": [
    "def head_to_tail_distance(head,tail):\n",
    "    x_distance = head[0]-tail[0]\n",
    "    y_distance = head[1]-tail[1]\n",
    "    return x_distance, y_distance"
   ]
  },
  {
   "cell_type": "code",
   "execution_count": 5,
   "id": "a019105f",
   "metadata": {
    "ExecuteTime": {
     "end_time": "2022-12-09T06:39:55.701927Z",
     "start_time": "2022-12-09T06:39:55.675151Z"
    }
   },
   "outputs": [
    {
     "data": {
      "text/plain": [
       "(0, 0)"
      ]
     },
     "execution_count": 5,
     "metadata": {},
     "output_type": "execute_result"
    }
   ],
   "source": [
    "head_to_tail_distance([0,0],[0,0])"
   ]
  },
  {
   "cell_type": "code",
   "execution_count": 6,
   "id": "f50cf0d4",
   "metadata": {
    "ExecuteTime": {
     "end_time": "2022-12-09T06:39:55.731656Z",
     "start_time": "2022-12-09T06:39:55.704284Z"
    }
   },
   "outputs": [
    {
     "data": {
      "text/plain": [
       "(0, 0)"
      ]
     },
     "execution_count": 6,
     "metadata": {},
     "output_type": "execute_result"
    }
   ],
   "source": [
    "head_to_tail_distance([1,0],[1,0])"
   ]
  },
  {
   "cell_type": "code",
   "execution_count": 7,
   "id": "936fffea",
   "metadata": {
    "ExecuteTime": {
     "end_time": "2022-12-09T06:39:55.753766Z",
     "start_time": "2022-12-09T06:39:55.739308Z"
    }
   },
   "outputs": [
    {
     "data": {
      "text/plain": [
       "(0, 1)"
      ]
     },
     "execution_count": 7,
     "metadata": {},
     "output_type": "execute_result"
    }
   ],
   "source": [
    "head_to_tail_distance([1,1],[1,0])"
   ]
  },
  {
   "cell_type": "code",
   "execution_count": 8,
   "id": "4cdf1d5f",
   "metadata": {
    "ExecuteTime": {
     "end_time": "2022-12-09T06:39:55.774511Z",
     "start_time": "2022-12-09T06:39:55.761064Z"
    }
   },
   "outputs": [
    {
     "data": {
      "text/plain": [
       "(0, 2)"
      ]
     },
     "execution_count": 8,
     "metadata": {},
     "output_type": "execute_result"
    }
   ],
   "source": [
    "head_to_tail_distance([1,2],[1,0])"
   ]
  },
  {
   "cell_type": "code",
   "execution_count": 9,
   "id": "c64cc29c",
   "metadata": {
    "ExecuteTime": {
     "end_time": "2022-12-09T06:39:55.786593Z",
     "start_time": "2022-12-09T06:39:55.777872Z"
    }
   },
   "outputs": [
    {
     "data": {
      "text/plain": [
       "(1, 2)"
      ]
     },
     "execution_count": 9,
     "metadata": {},
     "output_type": "execute_result"
    }
   ],
   "source": [
    "head_to_tail_distance([1,2],[0,0])"
   ]
  },
  {
   "cell_type": "code",
   "execution_count": 10,
   "id": "8f2dfa59",
   "metadata": {
    "ExecuteTime": {
     "end_time": "2022-12-09T06:39:55.795541Z",
     "start_time": "2022-12-09T06:39:55.789146Z"
    }
   },
   "outputs": [
    {
     "data": {
      "text/plain": [
       "(-1, -2)"
      ]
     },
     "execution_count": 10,
     "metadata": {},
     "output_type": "execute_result"
    }
   ],
   "source": [
    "head_to_tail_distance([0,0],[1,2])"
   ]
  },
  {
   "cell_type": "code",
   "execution_count": 11,
   "id": "20e555ba",
   "metadata": {
    "ExecuteTime": {
     "end_time": "2022-12-09T06:39:55.802515Z",
     "start_time": "2022-12-09T06:39:55.797151Z"
    }
   },
   "outputs": [],
   "source": [
    "sample = \"\"\"R 4\n",
    "U 4\n",
    "L 3\n",
    "D 1\n",
    "R 4\n",
    "D 1\n",
    "L 5\n",
    "R 2\"\"\""
   ]
  },
  {
   "cell_type": "code",
   "execution_count": 12,
   "id": "a152c92a",
   "metadata": {
    "ExecuteTime": {
     "end_time": "2022-12-09T06:39:55.811491Z",
     "start_time": "2022-12-09T06:39:55.803663Z"
    }
   },
   "outputs": [
    {
     "name": "stdout",
     "output_type": "stream",
     "text": [
      "R - 4\n",
      "[1, 0] [0, 0]\n",
      "[2, 0] [1, 0]\n",
      "[3, 0] [2, 0]\n",
      "[4, 0] [3, 0]\n",
      "U - 4\n",
      "[4, 1] [3, 0]\n",
      "[4, 2] [4, 1]\n",
      "[4, 3] [4, 2]\n",
      "[4, 4] [4, 3]\n",
      "L - 3\n",
      "[3, 4] [4, 3]\n",
      "[2, 4] [3, 4]\n",
      "[1, 4] [2, 4]\n",
      "D - 1\n",
      "[1, 3] [2, 4]\n",
      "R - 4\n",
      "[2, 3] [2, 4]\n",
      "[3, 3] [2, 4]\n",
      "[4, 3] [3, 3]\n",
      "[5, 3] [4, 3]\n",
      "D - 1\n",
      "[5, 2] [4, 3]\n",
      "L - 5\n",
      "[4, 2] [4, 3]\n",
      "[3, 2] [4, 3]\n",
      "[2, 2] [3, 2]\n",
      "[1, 2] [2, 2]\n",
      "[0, 2] [1, 2]\n",
      "R - 2\n",
      "[1, 2] [1, 2]\n",
      "[2, 2] [1, 2]\n"
     ]
    }
   ],
   "source": [
    "head=[0,0]\n",
    "tail=[0,0]\n",
    "path=[]\n",
    "# for row in input_data.splitlines():\n",
    "for row in sample.splitlines():\n",
    "    direction, step_count = row.split()\n",
    "    print(f\"{direction} - {step_count}\")\n",
    "    for num_steps in range(int(step_count)):\n",
    "        if direction=='R':\n",
    "            head[0]+=1\n",
    "        if direction=='L':\n",
    "            head[0]-=1\n",
    "        if direction=='U':\n",
    "            head[1]+=1\n",
    "        if direction=='D':\n",
    "            head[1]-=1\n",
    "        x_dist, y_dist = head_to_tail_distance(head, tail)\n",
    "        if x_dist > 1:    \n",
    "            tail[0]+=1\n",
    "            tail[1]+=np.clip(head[1]-tail[1],-1,1)\n",
    "        if x_dist < -1: \n",
    "            tail[0]-=1\n",
    "#             tail[1]-=max(head[1]-tail[1],-1)\n",
    "            tail[1]+=np.clip(head[1]-tail[1],-1,1)\n",
    "        if y_dist > 1:\n",
    "#             tail[0]+=min(head[0]-tail[0],1)\n",
    "            tail[0]+=np.clip(head[0]-tail[0],-1,1)\n",
    "            tail[1]+=1\n",
    "        if y_dist <-1:\n",
    "            tail[0]+=np.clip(head[0]-tail[0],-1,1)\n",
    "#             tail[0]-=max(head[0]-tail[0],-1)\n",
    "            tail[1]-=1\n",
    "        path+=[tail.copy()]\n",
    "        print(head, tail)"
   ]
  },
  {
   "cell_type": "code",
   "execution_count": 13,
   "id": "9b52d14c",
   "metadata": {
    "ExecuteTime": {
     "end_time": "2022-12-09T06:39:55.823240Z",
     "start_time": "2022-12-09T06:39:55.812684Z"
    }
   },
   "outputs": [
    {
     "data": {
      "text/plain": [
       "13"
      ]
     },
     "execution_count": 13,
     "metadata": {},
     "output_type": "execute_result"
    }
   ],
   "source": [
    "len(np.unique(path, axis=0))"
   ]
  },
  {
   "cell_type": "markdown",
   "id": "04998640",
   "metadata": {
    "ExecuteTime": {
     "end_time": "2022-12-01T16:23:22.851643Z",
     "start_time": "2022-12-01T16:23:22.842360Z"
    }
   },
   "source": [
    "### Problem #2"
   ]
  },
  {
   "cell_type": "code",
   "execution_count": 14,
   "id": "d386e3be",
   "metadata": {
    "ExecuteTime": {
     "end_time": "2022-12-09T06:39:55.830741Z",
     "start_time": "2022-12-09T06:39:55.825608Z"
    }
   },
   "outputs": [],
   "source": [
    "sample = \"\"\"R 5\n",
    "U 8\n",
    "L 8\n",
    "D 3\n",
    "R 17\n",
    "D 10\n",
    "L 25\n",
    "U 20\"\"\""
   ]
  },
  {
   "cell_type": "code",
   "execution_count": 15,
   "id": "c1b77044",
   "metadata": {
    "ExecuteTime": {
     "end_time": "2022-12-09T06:39:55.839103Z",
     "start_time": "2022-12-09T06:39:55.831774Z"
    }
   },
   "outputs": [],
   "source": [
    "class Head:\n",
    "    def __init__(self, starting_coord):\n",
    "        self.coord=starting_coord\n",
    "        self.path=[]\n",
    "        \n",
    "    def update_coord(self, direction):\n",
    "        if direction=='R':\n",
    "            self.coord[0]+=1\n",
    "        if direction=='L':\n",
    "            self.coord[0]-=1\n",
    "        if direction=='U':\n",
    "            self.coord[1]+=1\n",
    "        if direction=='D':\n",
    "            self.coord[1]-=1\n",
    "        self.path.append(self.coord.copy())"
   ]
  },
  {
   "cell_type": "code",
   "execution_count": 16,
   "id": "16844859",
   "metadata": {
    "ExecuteTime": {
     "end_time": "2022-12-09T06:39:55.872858Z",
     "start_time": "2022-12-09T06:39:55.845429Z"
    }
   },
   "outputs": [],
   "source": [
    "class Tail:\n",
    "    def __init__(self, name, starting_coord, leader):\n",
    "        self.name=name\n",
    "        self.coord=starting_coord\n",
    "        self.leader=leader\n",
    "        self.path=[]\n",
    "        \n",
    "    @property\n",
    "    def current_dist(self):\n",
    "        return head_to_tail_distance(self.leader.coord.copy(), self.coord.copy())\n",
    "    \n",
    "    def update_coord(self):\n",
    "        x_dist, y_dist = self.current_dist\n",
    "        if x_dist > 1:    \n",
    "            self.coord[0]+=1\n",
    "            self.coord[1]+=np.clip(self.leader.coord.copy()[1]-self.coord.copy()[1],-1,1)\n",
    "        elif x_dist < -1: \n",
    "            self.coord[0]-=1\n",
    "            self.coord[1]+=np.clip(self.leader.coord.copy()[1]-self.coord.copy()[1],-1,1)\n",
    "        elif y_dist > 1:\n",
    "            self.coord[0]+=np.clip(self.leader.coord.copy()[0]-self.coord.copy()[0],-1,1)\n",
    "            self.coord[1]+=1\n",
    "        elif y_dist <-1:\n",
    "            self.coord[0]+=np.clip(self.leader.coord.copy()[0]-self.coord.copy()[0],-1,1)\n",
    "            self.coord[1]-=1\n",
    "        self.path+=[self.coord.copy()]\n",
    "    \n",
    "    @property\n",
    "    def unique_spots(self):\n",
    "        return np.unique(self.path, axis=0)"
   ]
  },
  {
   "cell_type": "code",
   "execution_count": 17,
   "id": "22f5a5e1",
   "metadata": {
    "ExecuteTime": {
     "end_time": "2022-12-09T06:39:55.888983Z",
     "start_time": "2022-12-09T06:39:55.878973Z"
    }
   },
   "outputs": [],
   "source": [
    "head = Head(starting_coord=[0,0])"
   ]
  },
  {
   "cell_type": "code",
   "execution_count": 18,
   "id": "f7b78128",
   "metadata": {
    "ExecuteTime": {
     "end_time": "2022-12-09T06:39:55.903040Z",
     "start_time": "2022-12-09T06:39:55.895493Z"
    }
   },
   "outputs": [],
   "source": [
    "tail1 = Tail('1', [0,0], head)"
   ]
  },
  {
   "cell_type": "code",
   "execution_count": 19,
   "id": "41f8b013",
   "metadata": {
    "ExecuteTime": {
     "end_time": "2022-12-09T06:39:55.913258Z",
     "start_time": "2022-12-09T06:39:55.905549Z"
    }
   },
   "outputs": [
    {
     "data": {
      "text/plain": [
       "(0, 0)"
      ]
     },
     "execution_count": 19,
     "metadata": {},
     "output_type": "execute_result"
    }
   ],
   "source": [
    "tail1.current_dist"
   ]
  },
  {
   "cell_type": "code",
   "execution_count": 20,
   "id": "5de32151",
   "metadata": {
    "ExecuteTime": {
     "end_time": "2022-12-09T06:39:55.920135Z",
     "start_time": "2022-12-09T06:39:55.915164Z"
    }
   },
   "outputs": [],
   "source": [
    "head.update_coord('R')"
   ]
  },
  {
   "cell_type": "code",
   "execution_count": 21,
   "id": "92d6253f",
   "metadata": {
    "ExecuteTime": {
     "end_time": "2022-12-09T06:39:56.609452Z",
     "start_time": "2022-12-09T06:39:55.921581Z"
    }
   },
   "outputs": [],
   "source": [
    "head=Head([0,0])\n",
    "tail1=Tail('1', [0,0], head)\n",
    "tail2=Tail('2', [0,0], tail1)\n",
    "tail3=Tail('3', [0,0], tail2)\n",
    "tail4=Tail('4', [0,0], tail3)\n",
    "tail5=Tail('5', [0,0], tail4)\n",
    "tail6=Tail('6', [0,0], tail5)\n",
    "tail7=Tail('7', [0,0], tail6)\n",
    "tail8=Tail('8', [0,0], tail7)\n",
    "tail9=Tail('9', [0,0], tail8)\n",
    "path=[]\n",
    "for row in input_data.splitlines():\n",
    "# for row in sample.splitlines():\n",
    "    direction, step_count = row.split()\n",
    "#     print(f\"{direction} - {step_count}\")\n",
    "    for num_steps in range(int(step_count)):\n",
    "        head.update_coord(direction)\n",
    "        tail1.update_coord()\n",
    "        tail2.update_coord()\n",
    "        tail3.update_coord()\n",
    "        tail4.update_coord()\n",
    "        tail5.update_coord()\n",
    "        tail6.update_coord()\n",
    "        tail7.update_coord()\n",
    "        tail8.update_coord()\n",
    "        tail9.update_coord()\n",
    "#         print(\"---------------\")\n",
    "#         print(head.coord)\n",
    "#         print(tail1.coord)\n",
    "#         print(tail2.coord)\n",
    "#         print(tail3.coord)\n",
    "#         print(tail4.coord)\n",
    "#         print(tail5.coord)\n",
    "#         print(tail6.coord)\n",
    "#         print(tail7.coord)\n",
    "#         print(tail8.coord)\n",
    "#         print(tail9.coord)"
   ]
  },
  {
   "cell_type": "code",
   "execution_count": 22,
   "id": "cfb83032",
   "metadata": {
    "ExecuteTime": {
     "end_time": "2022-12-09T06:39:56.635230Z",
     "start_time": "2022-12-09T06:39:56.610795Z"
    }
   },
   "outputs": [
    {
     "data": {
      "text/plain": [
       "2460"
      ]
     },
     "execution_count": 22,
     "metadata": {},
     "output_type": "execute_result"
    }
   ],
   "source": [
    "len(tail9.unique_spots)"
   ]
  },
  {
   "cell_type": "code",
   "execution_count": null,
   "id": "44feccec",
   "metadata": {},
   "outputs": [],
   "source": []
  }
 ],
 "metadata": {
  "gist": {
   "data": {
    "description": "day5/day5_solution.ipynb",
    "public": false
   },
   "id": ""
  },
  "kernelspec": {
   "display_name": "Python 3 (ipykernel)",
   "language": "python",
   "name": "python3"
  },
  "language_info": {
   "codemirror_mode": {
    "name": "ipython",
    "version": 3
   },
   "file_extension": ".py",
   "mimetype": "text/x-python",
   "name": "python",
   "nbconvert_exporter": "python",
   "pygments_lexer": "ipython3",
   "version": "3.9.15"
  }
 },
 "nbformat": 4,
 "nbformat_minor": 5
}
