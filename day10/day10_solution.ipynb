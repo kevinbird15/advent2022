{
 "cells": [
  {
   "cell_type": "markdown",
   "id": "b4519596",
   "metadata": {},
   "source": [
    "# Day 10 Solution"
   ]
  },
  {
   "cell_type": "code",
   "execution_count": 39,
   "id": "66bb88a4",
   "metadata": {
    "ExecuteTime": {
     "end_time": "2022-12-12T16:12:59.614176Z",
     "start_time": "2022-12-12T16:12:59.608907Z"
    }
   },
   "outputs": [
    {
     "data": {
      "text/html": [
       "<style>.container { width:95% !important; }</style>"
      ],
      "text/plain": [
       "<IPython.core.display.HTML object>"
      ]
     },
     "execution_count": 39,
     "metadata": {},
     "output_type": "execute_result"
    }
   ],
   "source": [
    "from IPython.core.display import HTML\n",
    "HTML(\"<style>.container { width:95% !important; }</style>\")"
   ]
  },
  {
   "cell_type": "code",
   "execution_count": 16,
   "id": "12b5ebe6",
   "metadata": {
    "ExecuteTime": {
     "end_time": "2022-12-12T15:56:26.031265Z",
     "start_time": "2022-12-12T15:56:26.028317Z"
    }
   },
   "outputs": [],
   "source": [
    "input_data = open('input_data.txt', newline='\\n').read()"
   ]
  },
  {
   "cell_type": "markdown",
   "id": "54d828c7",
   "metadata": {},
   "source": [
    "### Problem #1"
   ]
  },
  {
   "cell_type": "code",
   "execution_count": 17,
   "id": "3bcd9b38",
   "metadata": {
    "ExecuteTime": {
     "end_time": "2022-12-12T15:56:26.049185Z",
     "start_time": "2022-12-12T15:56:26.033443Z"
    }
   },
   "outputs": [],
   "source": [
    "sample = \"\"\"noop\n",
    "addx 3\n",
    "addx -5\"\"\""
   ]
  },
  {
   "cell_type": "code",
   "execution_count": 18,
   "id": "dde18e1a",
   "metadata": {
    "ExecuteTime": {
     "end_time": "2022-12-12T15:56:26.061671Z",
     "start_time": "2022-12-12T15:56:26.050457Z"
    }
   },
   "outputs": [],
   "source": [
    "sample = \"\"\"addx 15\n",
    "addx -11\n",
    "addx 6\n",
    "addx -3\n",
    "addx 5\n",
    "addx -1\n",
    "addx -8\n",
    "addx 13\n",
    "addx 4\n",
    "noop\n",
    "addx -1\n",
    "addx 5\n",
    "addx -1\n",
    "addx 5\n",
    "addx -1\n",
    "addx 5\n",
    "addx -1\n",
    "addx 5\n",
    "addx -1\n",
    "addx -35\n",
    "addx 1\n",
    "addx 24\n",
    "addx -19\n",
    "addx 1\n",
    "addx 16\n",
    "addx -11\n",
    "noop\n",
    "noop\n",
    "addx 21\n",
    "addx -15\n",
    "noop\n",
    "noop\n",
    "addx -3\n",
    "addx 9\n",
    "addx 1\n",
    "addx -3\n",
    "addx 8\n",
    "addx 1\n",
    "addx 5\n",
    "noop\n",
    "noop\n",
    "noop\n",
    "noop\n",
    "noop\n",
    "addx -36\n",
    "noop\n",
    "addx 1\n",
    "addx 7\n",
    "noop\n",
    "noop\n",
    "noop\n",
    "addx 2\n",
    "addx 6\n",
    "noop\n",
    "noop\n",
    "noop\n",
    "noop\n",
    "noop\n",
    "addx 1\n",
    "noop\n",
    "noop\n",
    "addx 7\n",
    "addx 1\n",
    "noop\n",
    "addx -13\n",
    "addx 13\n",
    "addx 7\n",
    "noop\n",
    "addx 1\n",
    "addx -33\n",
    "noop\n",
    "noop\n",
    "noop\n",
    "addx 2\n",
    "noop\n",
    "noop\n",
    "noop\n",
    "addx 8\n",
    "noop\n",
    "addx -1\n",
    "addx 2\n",
    "addx 1\n",
    "noop\n",
    "addx 17\n",
    "addx -9\n",
    "addx 1\n",
    "addx 1\n",
    "addx -3\n",
    "addx 11\n",
    "noop\n",
    "noop\n",
    "addx 1\n",
    "noop\n",
    "addx 1\n",
    "noop\n",
    "noop\n",
    "addx -13\n",
    "addx -19\n",
    "addx 1\n",
    "addx 3\n",
    "addx 26\n",
    "addx -30\n",
    "addx 12\n",
    "addx -1\n",
    "addx 3\n",
    "addx 1\n",
    "noop\n",
    "noop\n",
    "noop\n",
    "addx -9\n",
    "addx 18\n",
    "addx 1\n",
    "addx 2\n",
    "noop\n",
    "noop\n",
    "addx 9\n",
    "noop\n",
    "noop\n",
    "noop\n",
    "addx -1\n",
    "addx 2\n",
    "addx -37\n",
    "addx 1\n",
    "addx 3\n",
    "noop\n",
    "addx 15\n",
    "addx -21\n",
    "addx 22\n",
    "addx -6\n",
    "addx 1\n",
    "noop\n",
    "addx 2\n",
    "addx 1\n",
    "noop\n",
    "addx -10\n",
    "noop\n",
    "noop\n",
    "addx 20\n",
    "addx 1\n",
    "addx 2\n",
    "addx 2\n",
    "addx -6\n",
    "addx -11\n",
    "noop\n",
    "noop\n",
    "noop\"\"\""
   ]
  },
  {
   "cell_type": "code",
   "execution_count": 25,
   "id": "1d74d483",
   "metadata": {
    "ExecuteTime": {
     "end_time": "2022-12-12T16:03:15.814485Z",
     "start_time": "2022-12-12T16:03:15.792088Z"
    }
   },
   "outputs": [
    {
     "name": "stdout",
     "output_type": "stream",
     "text": [
      "20 11\n",
      "20 21\n",
      "60 26\n",
      "100 40\n",
      "100 9\n",
      "140 25\n",
      "180 21\n",
      "220 17\n",
      "220 21\n"
     ]
    }
   ],
   "source": [
    "# for row in input_data.splitlines():\n",
    "cycle=1\n",
    "X=1\n",
    "print_cycles=[20,60,100,140,180,220]\n",
    "for row in input_data.splitlines():\n",
    "# for row in sample.splitlines():\n",
    "    instruction_value = row.split()\n",
    "    if instruction_value[0]=='noop':\n",
    "        cycle+=1\n",
    "    else:\n",
    "        for i in range(2):\n",
    "            cycle+=1\n",
    "            if cycle in print_cycles:\n",
    "                print(cycle,X)\n",
    "        X+=int(instruction_value[1])\n",
    "    if cycle in print_cycles:\n",
    "        print(cycle, X)"
   ]
  },
  {
   "cell_type": "code",
   "execution_count": 21,
   "id": "78ff168c",
   "metadata": {
    "ExecuteTime": {
     "end_time": "2022-12-12T15:57:29.297751Z",
     "start_time": "2022-12-12T15:57:29.282902Z"
    }
   },
   "outputs": [
    {
     "data": {
      "text/plain": [
       "14780"
      ]
     },
     "execution_count": 21,
     "metadata": {},
     "output_type": "execute_result"
    }
   ],
   "source": [
    "20*21+60*26+100*9+140*25+180*21+220*21"
   ]
  },
  {
   "cell_type": "markdown",
   "id": "ee8fd7d3",
   "metadata": {
    "ExecuteTime": {
     "end_time": "2022-12-01T16:23:22.851643Z",
     "start_time": "2022-12-01T16:23:22.842360Z"
    }
   },
   "source": [
    "### Problem #2"
   ]
  },
  {
   "cell_type": "code",
   "execution_count": 28,
   "id": "009b8731",
   "metadata": {
    "ExecuteTime": {
     "end_time": "2022-12-12T16:06:53.152855Z",
     "start_time": "2022-12-12T16:06:53.084340Z"
    }
   },
   "outputs": [],
   "source": [
    "import numpy as np"
   ]
  },
  {
   "cell_type": "code",
   "execution_count": 65,
   "id": "9ee3949e",
   "metadata": {
    "ExecuteTime": {
     "end_time": "2022-12-12T16:34:31.446967Z",
     "start_time": "2022-12-12T16:34:31.418050Z"
    }
   },
   "outputs": [
    {
     "name": "stdout",
     "output_type": "stream",
     "text": [
      "8 15\n",
      "in instruction\n",
      "8 15 [15 16 17]\n",
      "in instruction\n",
      "9 15 [15 16 17]\n",
      "10 11\n",
      "20 21\n",
      "in instruction\n",
      "20 21 [21 22 23]\n",
      "in instruction\n",
      "60 26 [26 27 28]\n",
      "100 9\n",
      "in instruction\n",
      "100 9 [ 9 10 11]\n",
      "in instruction\n",
      "140 25 [25 26 27]\n",
      "180 21\n",
      "in instruction\n",
      "180 21 [21 22 23]\n",
      "220 21\n",
      "in instruction\n",
      "220 21 [21 22 23]\n"
     ]
    }
   ],
   "source": [
    "cycle=1\n",
    "X=1\n",
    "sprite_pos=np.array([1,2,3])\n",
    "print_cycles=[8,9,10,20,60,100,140,180,220]\n",
    "printed_output=[]\n",
    "for row in input_data.splitlines():\n",
    "# for row in sample.splitlines():\n",
    "    instruction_value = row.split()\n",
    "#     print(instruction_value)\n",
    "    if instruction_value[0]=='noop':\n",
    "        printed_output+=['#' if cycle % 40 in sprite_pos else '.']\n",
    "        cycle+=1\n",
    "    else:\n",
    "        for i in range(2):\n",
    "            printed_output+=['#' if cycle % 40 in sprite_pos else '.']\n",
    "            if cycle in print_cycles:\n",
    "                print('in instruction')\n",
    "                print(cycle,X,sprite_pos)\n",
    "            cycle+=1\n",
    "            \n",
    "        X+=int(instruction_value[1])\n",
    "        sprite_pos+=int(instruction_value[1])\n",
    "#     print(printed_output)\n",
    "    if cycle in print_cycles:\n",
    "        print(cycle, X)"
   ]
  },
  {
   "cell_type": "code",
   "execution_count": 66,
   "id": "d5694300",
   "metadata": {
    "ExecuteTime": {
     "end_time": "2022-12-12T16:34:33.587000Z",
     "start_time": "2022-12-12T16:34:33.576202Z"
    }
   },
   "outputs": [],
   "source": [
    "np.set_printoptions(edgeitems=30, linewidth=10000, \n",
    "    formatter=dict(str=lambda x: f\"x\"))"
   ]
  },
  {
   "cell_type": "code",
   "execution_count": 67,
   "id": "c9a01087",
   "metadata": {
    "ExecuteTime": {
     "end_time": "2022-12-12T16:34:34.144364Z",
     "start_time": "2022-12-12T16:34:34.139254Z"
    }
   },
   "outputs": [
    {
     "name": "stdout",
     "output_type": "stream",
     "text": [
      "[['#' '#' '#' '#' '.' '#' '.' '.' '.' '.' '#' '#' '#' '.' '.' '#' '.' '.' '.' '.' '#' '#' '#' '#' '.' '.' '#' '#' '.' '.' '#' '#' '#' '#' '.' '#' '.' '.' '.' '#']\n",
      " ['#' '.' '.' '.' '.' '#' '.' '.' '.' '.' '#' '.' '.' '#' '.' '#' '.' '.' '.' '.' '.' '.' '.' '#' '.' '#' '.' '.' '#' '.' '.' '.' '.' '#' '.' '#' '.' '.' '.' '.']\n",
      " ['#' '#' '#' '.' '.' '#' '.' '.' '.' '.' '#' '.' '.' '#' '.' '#' '.' '.' '.' '.' '.' '.' '#' '.' '.' '#' '.' '.' '.' '.' '.' '.' '#' '.' '.' '#' '.' '.' '.' '.']\n",
      " ['#' '.' '.' '.' '.' '#' '.' '.' '.' '.' '#' '#' '#' '.' '.' '#' '.' '.' '.' '.' '.' '#' '.' '.' '.' '#' '.' '#' '#' '.' '.' '#' '.' '.' '.' '#' '.' '.' '.' '#']\n",
      " ['#' '.' '.' '.' '.' '#' '.' '.' '.' '.' '#' '.' '.' '.' '.' '#' '.' '.' '.' '.' '#' '.' '.' '.' '.' '#' '.' '.' '#' '.' '#' '.' '.' '.' '.' '#' '.' '.' '.' '.']\n",
      " ['#' '#' '#' '#' '.' '#' '#' '#' '#' '.' '#' '.' '.' '.' '.' '#' '#' '#' '#' '.' '#' '#' '#' '#' '.' '.' '#' '#' '#' '.' '#' '#' '#' '#' '.' '#' '#' '#' '#' '.']]\n"
     ]
    }
   ],
   "source": [
    "print(np.reshape(printed_output, (6,40)))"
   ]
  },
  {
   "cell_type": "code",
   "execution_count": 24,
   "id": "7c93ff7e",
   "metadata": {
    "ExecuteTime": {
     "end_time": "2022-12-12T16:03:03.085096Z",
     "start_time": "2022-12-12T16:03:03.081434Z"
    }
   },
   "outputs": [
    {
     "data": {
      "text/plain": [
       "147"
      ]
     },
     "execution_count": 24,
     "metadata": {},
     "output_type": "execute_result"
    }
   ],
   "source": [
    "position"
   ]
  }
 ],
 "metadata": {
  "gist": {
   "data": {
    "description": "day5/day5_solution.ipynb",
    "public": false
   },
   "id": ""
  },
  "kernelspec": {
   "display_name": "Python 3 (ipykernel)",
   "language": "python",
   "name": "python3"
  },
  "language_info": {
   "codemirror_mode": {
    "name": "ipython",
    "version": 3
   },
   "file_extension": ".py",
   "mimetype": "text/x-python",
   "name": "python",
   "nbconvert_exporter": "python",
   "pygments_lexer": "ipython3",
   "version": "3.9.15"
  }
 },
 "nbformat": 4,
 "nbformat_minor": 5
}
