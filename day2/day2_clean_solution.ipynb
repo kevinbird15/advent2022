{
 "cells": [
  {
   "cell_type": "markdown",
   "id": "fe882da4",
   "metadata": {},
   "source": [
    "# Day 2 Solution"
   ]
  },
  {
   "cell_type": "code",
   "execution_count": 1,
   "id": "fdea3783",
   "metadata": {
    "ExecuteTime": {
     "end_time": "2022-12-02T16:24:28.943688Z",
     "start_time": "2022-12-02T16:24:28.912954Z"
    }
   },
   "outputs": [],
   "source": [
    "from fastcore.test import test_eq"
   ]
  },
  {
   "cell_type": "code",
   "execution_count": 2,
   "id": "b75313c5",
   "metadata": {
    "ExecuteTime": {
     "end_time": "2022-12-02T16:24:28.955198Z",
     "start_time": "2022-12-02T16:24:28.949335Z"
    }
   },
   "outputs": [],
   "source": [
    "input_data = open('input_data.txt', newline='\\n').read()"
   ]
  },
  {
   "cell_type": "markdown",
   "id": "9b03b57d",
   "metadata": {},
   "source": [
    "### Problem #1"
   ]
  },
  {
   "cell_type": "code",
   "execution_count": 3,
   "id": "ff3e1640",
   "metadata": {
    "ExecuteTime": {
     "end_time": "2022-12-02T16:24:28.964630Z",
     "start_time": "2022-12-02T16:24:28.958115Z"
    }
   },
   "outputs": [],
   "source": [
    "elf_inputs = {\"A\": \"Rock\", \"B\":\"Paper\", \"C\":\"Scissors\"}\n",
    "my_outputs = {\"X\": \"Rock\", \"Y\":\"Paper\", \"Z\":\"Scissors\"}"
   ]
  },
  {
   "cell_type": "code",
   "execution_count": 4,
   "id": "ece4d0a7",
   "metadata": {
    "ExecuteTime": {
     "end_time": "2022-12-02T16:24:28.979464Z",
     "start_time": "2022-12-02T16:24:28.968014Z"
    }
   },
   "outputs": [],
   "source": [
    "shape_score = {\"Rock\":1, \"Paper\":2, \"Scissors\":3}"
   ]
  },
  {
   "cell_type": "code",
   "execution_count": 5,
   "id": "d6ff6d15",
   "metadata": {
    "ExecuteTime": {
     "end_time": "2022-12-02T16:24:28.989399Z",
     "start_time": "2022-12-02T16:24:28.980925Z"
    }
   },
   "outputs": [],
   "source": [
    "def rock_paper_scissors_logic(pick1, pick2):\n",
    "    \"Give point outputs\"\n",
    "    round_score=0\n",
    "    if pick1 == pick2:\n",
    "        round_score=3\n",
    "    if pick1 == \"Rock\" and pick2==\"Scissors\":\n",
    "        round_score=6\n",
    "    if pick1 == \"Paper\" and pick2==\"Rock\":\n",
    "        round_score=6\n",
    "    if pick1 == \"Scissors\" and pick2==\"Paper\":\n",
    "        round_score=6\n",
    "    return round_score"
   ]
  },
  {
   "cell_type": "code",
   "execution_count": 6,
   "id": "be3d7abb",
   "metadata": {
    "ExecuteTime": {
     "end_time": "2022-12-02T16:24:29.001907Z",
     "start_time": "2022-12-02T16:24:28.990707Z"
    }
   },
   "outputs": [],
   "source": [
    "test_eq(rock_paper_scissors_logic(\"Rock\", \"Paper\"), 0)\n",
    "test_eq(rock_paper_scissors_logic(\"Rock\", \"Rock\"), 3)\n",
    "test_eq(rock_paper_scissors_logic(\"Paper\", \"Rock\"), 6)"
   ]
  },
  {
   "cell_type": "code",
   "execution_count": 7,
   "id": "45bb6f79",
   "metadata": {
    "ExecuteTime": {
     "end_time": "2022-12-02T16:24:29.011801Z",
     "start_time": "2022-12-02T16:24:29.003229Z"
    },
    "scrolled": true
   },
   "outputs": [],
   "source": [
    "total_score = 0\n",
    "for rps_round in input_data.splitlines():\n",
    "    elf_input, my_output = rps_round.split()\n",
    "    my_pick = my_outputs[my_output]\n",
    "    elf_pick = elf_inputs[elf_input]\n",
    "    \n",
    "    round_score = shape_score[my_pick]\n",
    "    round_score += rock_paper_scissors_logic(my_pick, elf_pick)\n",
    "    total_score+=round_score\n",
    "#     print(round_score)"
   ]
  },
  {
   "cell_type": "code",
   "execution_count": 8,
   "id": "f60dabd2",
   "metadata": {
    "ExecuteTime": {
     "end_time": "2022-12-02T16:24:29.020186Z",
     "start_time": "2022-12-02T16:24:29.012858Z"
    }
   },
   "outputs": [],
   "source": [
    "test_eq(total_score, 8890)"
   ]
  },
  {
   "cell_type": "markdown",
   "id": "8f5d76c0",
   "metadata": {
    "ExecuteTime": {
     "end_time": "2022-12-01T16:23:22.851643Z",
     "start_time": "2022-12-01T16:23:22.842360Z"
    }
   },
   "source": [
    "### Problem #2"
   ]
  },
  {
   "cell_type": "code",
   "execution_count": 9,
   "id": "21152a9e",
   "metadata": {
    "ExecuteTime": {
     "end_time": "2022-12-02T16:24:29.027466Z",
     "start_time": "2022-12-02T16:24:29.021373Z"
    }
   },
   "outputs": [],
   "source": [
    "my_outputs = {\"X\": \"Lose\", \"Y\":\"Draw\", \"Z\":\"Win\"}\n",
    "point2outcome = {0:\"Lose\", 3:\"Draw\", 6:\"Win\"}\n",
    "possible_picks = [\"Rock\", \"Paper\", \"Scissors\"]"
   ]
  },
  {
   "cell_type": "code",
   "execution_count": 10,
   "id": "85ca91d2",
   "metadata": {
    "ExecuteTime": {
     "end_time": "2022-12-02T16:24:29.035380Z",
     "start_time": "2022-12-02T16:24:29.029362Z"
    }
   },
   "outputs": [],
   "source": [
    "def choice_selector(opponents_pick, desired_outcome):\n",
    "    for my_pick in possible_picks:\n",
    "        points_scored = rock_paper_scissors_logic(my_pick, opponents_pick)\n",
    "        outcome = point2outcome[points_scored]\n",
    "        if outcome == desired_outcome:\n",
    "            return my_pick\n",
    "    raise"
   ]
  },
  {
   "cell_type": "code",
   "execution_count": 11,
   "id": "9e1d17b9",
   "metadata": {
    "ExecuteTime": {
     "end_time": "2022-12-02T16:24:29.043713Z",
     "start_time": "2022-12-02T16:24:29.036783Z"
    }
   },
   "outputs": [],
   "source": [
    "test_eq(choice_selector('Rock', 'Draw'), 'Rock')\n",
    "test_eq(choice_selector('Rock', 'Lose'), 'Scissors')\n",
    "test_eq(choice_selector('Rock', 'Win'), 'Paper')"
   ]
  },
  {
   "cell_type": "code",
   "execution_count": 12,
   "id": "fe90f55c",
   "metadata": {
    "ExecuteTime": {
     "end_time": "2022-12-02T16:24:29.055423Z",
     "start_time": "2022-12-02T16:24:29.045166Z"
    }
   },
   "outputs": [],
   "source": [
    "total_score = 0\n",
    "for rps_round in input_data.splitlines():\n",
    "    elf_input, my_output = rps_round.split()\n",
    "    outcome = my_outputs[my_output]\n",
    "    elf_pick = elf_inputs[elf_input]\n",
    "    \n",
    "    my_pick = choice_selector(elf_pick, outcome)\n",
    "    round_score = shape_score[my_pick]\n",
    "    round_score += rock_paper_scissors_logic(my_pick, elf_pick)\n",
    "    total_score += round_score"
   ]
  },
  {
   "cell_type": "code",
   "execution_count": 13,
   "id": "e682b464",
   "metadata": {
    "ExecuteTime": {
     "end_time": "2022-12-02T16:24:29.063531Z",
     "start_time": "2022-12-02T16:24:29.056655Z"
    }
   },
   "outputs": [],
   "source": [
    "test_eq(total_score, 10238)"
   ]
  }
 ],
 "metadata": {
  "kernelspec": {
   "display_name": "Python 3 (ipykernel)",
   "language": "python",
   "name": "python3"
  },
  "language_info": {
   "codemirror_mode": {
    "name": "ipython",
    "version": 3
   },
   "file_extension": ".py",
   "mimetype": "text/x-python",
   "name": "python",
   "nbconvert_exporter": "python",
   "pygments_lexer": "ipython3",
   "version": "3.9.15"
  }
 },
 "nbformat": 4,
 "nbformat_minor": 5
}
