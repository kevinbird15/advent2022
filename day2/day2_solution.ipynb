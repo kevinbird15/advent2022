{
 "cells": [
  {
   "cell_type": "markdown",
   "id": "3d546707",
   "metadata": {},
   "source": [
    "# Day 2 Solution"
   ]
  },
  {
   "cell_type": "code",
   "execution_count": 2,
   "id": "a672e157",
   "metadata": {
    "ExecuteTime": {
     "end_time": "2022-12-02T05:02:55.622180Z",
     "start_time": "2022-12-02T05:02:55.612426Z"
    }
   },
   "outputs": [],
   "source": [
    "input_data = open('input_data.txt', newline='\\n').read()"
   ]
  },
  {
   "cell_type": "markdown",
   "id": "e37c86ce",
   "metadata": {},
   "source": [
    "### Problem #1"
   ]
  },
  {
   "cell_type": "code",
   "execution_count": 8,
   "id": "23108657",
   "metadata": {
    "ExecuteTime": {
     "end_time": "2022-12-02T05:03:53.938678Z",
     "start_time": "2022-12-02T05:03:53.931414Z"
    }
   },
   "outputs": [],
   "source": [
    "elf_inputs = {\"A\": \"Rock\", \"B\":\"Paper\", \"C\":\"Scissors\"}\n",
    "my_outputs = {\"X\": \"Rock\", \"Y\":\"Paper\", \"Z\":\"Scissors\"}"
   ]
  },
  {
   "cell_type": "code",
   "execution_count": 9,
   "id": "401da12b",
   "metadata": {
    "ExecuteTime": {
     "end_time": "2022-12-02T05:04:35.740939Z",
     "start_time": "2022-12-02T05:04:35.736283Z"
    }
   },
   "outputs": [],
   "source": [
    "shape_score = {\"Rock\":1, \"Paper\":2, \"Scissors\":3}"
   ]
  },
  {
   "cell_type": "code",
   "execution_count": 23,
   "id": "ccf4a485",
   "metadata": {
    "ExecuteTime": {
     "end_time": "2022-12-02T05:11:41.933261Z",
     "start_time": "2022-12-02T05:11:41.911705Z"
    },
    "scrolled": true
   },
   "outputs": [],
   "source": [
    "total_score = 0\n",
    "for rps_round in input_data.splitlines():\n",
    "    elf_input, my_output = rps_round.split()\n",
    "    my_pick = my_outputs[my_output]\n",
    "    elf_pick = elf_inputs[elf_input]\n",
    "    \n",
    "    round_score = shape_score[my_pick]\n",
    "    if my_pick == elf_pick:\n",
    "        round_score+=3\n",
    "    if my_pick == \"Rock\" and elf_pick==\"Scissors\":\n",
    "        round_score+=6\n",
    "    if my_pick == \"Paper\" and elf_pick==\"Rock\":\n",
    "        round_score+=6\n",
    "    if my_pick == \"Scissors\" and elf_pick==\"Paper\":\n",
    "        round_score+=6    \n",
    "\n",
    "    total_score+=round_score\n",
    "#     print(round_score)"
   ]
  },
  {
   "cell_type": "code",
   "execution_count": 22,
   "id": "763751e3",
   "metadata": {
    "ExecuteTime": {
     "end_time": "2022-12-02T05:10:49.679233Z",
     "start_time": "2022-12-02T05:10:49.675532Z"
    }
   },
   "outputs": [
    {
     "data": {
      "text/plain": [
       "8890"
      ]
     },
     "execution_count": 22,
     "metadata": {},
     "output_type": "execute_result"
    }
   ],
   "source": [
    "total_score"
   ]
  },
  {
   "cell_type": "markdown",
   "id": "3df1823d",
   "metadata": {
    "ExecuteTime": {
     "end_time": "2022-12-01T16:23:22.851643Z",
     "start_time": "2022-12-01T16:23:22.842360Z"
    }
   },
   "source": [
    "### Problem #2"
   ]
  },
  {
   "cell_type": "code",
   "execution_count": 33,
   "id": "1462368a",
   "metadata": {
    "ExecuteTime": {
     "end_time": "2022-12-02T05:18:42.873838Z",
     "start_time": "2022-12-02T05:18:42.871760Z"
    }
   },
   "outputs": [],
   "source": [
    "my_outputs = {\"X\": \"Lose\", \"Y\":\"Draw\", \"Z\":\"Win\"}"
   ]
  },
  {
   "cell_type": "code",
   "execution_count": 52,
   "id": "c24e81aa",
   "metadata": {
    "ExecuteTime": {
     "end_time": "2022-12-02T05:32:52.618537Z",
     "start_time": "2022-12-02T05:32:52.586884Z"
    },
    "scrolled": true
   },
   "outputs": [],
   "source": [
    "total_score = 0\n",
    "for rps_round in input_data.splitlines():\n",
    "    elf_input, my_output = rps_round.split()\n",
    "    outcome = my_outputs[my_output]\n",
    "    elf_pick = elf_inputs[elf_input]\n",
    "    \n",
    "    if outcome == \"Lose\":\n",
    "        if elf_pick == \"Scissors\":\n",
    "            my_pick = \"Paper\"\n",
    "        if elf_pick == \"Rock\":\n",
    "            my_pick = \"Scissors\"\n",
    "        if elf_pick == \"Paper\":\n",
    "            my_pick = \"Rock\"\n",
    "    if outcome == \"Draw\":\n",
    "        my_pick=elf_pick\n",
    "    if outcome == \"Win\":\n",
    "        if elf_pick == \"Scissors\":\n",
    "            my_pick = \"Rock\"\n",
    "        if elf_pick == \"Rock\":\n",
    "            my_pick = \"Paper\"\n",
    "        if elf_pick == \"Paper\":\n",
    "            my_pick = \"Scissors\"\n",
    "    \n",
    "    round_score = shape_score[my_pick]\n",
    "    if my_pick == elf_pick:\n",
    "        round_score+=3\n",
    "    if my_pick == \"Rock\" and elf_pick==\"Scissors\":\n",
    "        round_score+=6\n",
    "    if my_pick == \"Paper\" and elf_pick==\"Rock\":\n",
    "        round_score+=6\n",
    "    if my_pick == \"Scissors\" and elf_pick==\"Paper\":\n",
    "        round_score+=6    \n",
    "#     print(outcome, my_pick, elf_pick, round_score)\n",
    "#     print(round_score)\n",
    "        \n",
    "    total_score+=round_score"
   ]
  },
  {
   "cell_type": "code",
   "execution_count": 54,
   "id": "616bac85",
   "metadata": {
    "ExecuteTime": {
     "end_time": "2022-12-02T05:33:00.840052Z",
     "start_time": "2022-12-02T05:33:00.827383Z"
    }
   },
   "outputs": [
    {
     "data": {
      "text/plain": [
       "10238"
      ]
     },
     "execution_count": 54,
     "metadata": {},
     "output_type": "execute_result"
    }
   ],
   "source": [
    "total_score"
   ]
  },
  {
   "cell_type": "code",
   "execution_count": null,
   "id": "65b5ed56",
   "metadata": {},
   "outputs": [],
   "source": []
  }
 ],
 "metadata": {
  "kernelspec": {
   "display_name": "Python 3 (ipykernel)",
   "language": "python",
   "name": "python3"
  },
  "language_info": {
   "codemirror_mode": {
    "name": "ipython",
    "version": 3
   },
   "file_extension": ".py",
   "mimetype": "text/x-python",
   "name": "python",
   "nbconvert_exporter": "python",
   "pygments_lexer": "ipython3",
   "version": "3.9.15"
  }
 },
 "nbformat": 4,
 "nbformat_minor": 5
}
