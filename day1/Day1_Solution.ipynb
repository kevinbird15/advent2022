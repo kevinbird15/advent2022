{
 "cells": [
  {
   "cell_type": "code",
   "execution_count": 64,
   "id": "dcb6730e",
   "metadata": {
    "ExecuteTime": {
     "end_time": "2022-12-01T16:22:39.828669Z",
     "start_time": "2022-12-01T16:22:39.824758Z"
    }
   },
   "outputs": [],
   "source": [
    "input_data = open('input_data.txt', newline='\\n').read()"
   ]
  },
  {
   "cell_type": "code",
   "execution_count": 65,
   "id": "c4878ecd",
   "metadata": {
    "ExecuteTime": {
     "end_time": "2022-12-01T16:22:40.120138Z",
     "start_time": "2022-12-01T16:22:40.105839Z"
    }
   },
   "outputs": [],
   "source": [
    "elf = {}\n",
    "elf_num=1\n",
    "elf_calories=0\n",
    "for input_line in input_data.splitlines():\n",
    "    if input_line == '':\n",
    "        elf[elf_num]=elf_calories\n",
    "        elf_num+=1\n",
    "        elf_calories=0\n",
    "        continue\n",
    "    elf_calories+=int(input_line)"
   ]
  },
  {
   "cell_type": "code",
   "execution_count": null,
   "id": "4ecf6e00",
   "metadata": {},
   "outputs": [],
   "source": []
  },
  {
   "cell_type": "markdown",
   "id": "1139cb0b",
   "metadata": {},
   "source": [
    "### Problem #1"
   ]
  },
  {
   "cell_type": "code",
   "execution_count": 71,
   "id": "8de61216",
   "metadata": {
    "ExecuteTime": {
     "end_time": "2022-12-01T16:23:50.664746Z",
     "start_time": "2022-12-01T16:23:50.650471Z"
    }
   },
   "outputs": [
    {
     "data": {
      "text/plain": [
       "70374"
      ]
     },
     "execution_count": 71,
     "metadata": {},
     "output_type": "execute_result"
    }
   ],
   "source": [
    "sorted(elf.items(), key=lambda item: item[1], reverse=True)[0][1]"
   ]
  },
  {
   "cell_type": "markdown",
   "id": "a77ee794",
   "metadata": {
    "ExecuteTime": {
     "end_time": "2022-12-01T16:23:22.851643Z",
     "start_time": "2022-12-01T16:23:22.842360Z"
    }
   },
   "source": [
    "### Problem #2"
   ]
  },
  {
   "cell_type": "code",
   "execution_count": 72,
   "id": "a0e68bde",
   "metadata": {
    "ExecuteTime": {
     "end_time": "2022-12-01T16:23:51.283004Z",
     "start_time": "2022-12-01T16:23:51.277151Z"
    }
   },
   "outputs": [
    {
     "data": {
      "text/plain": [
       "204610"
      ]
     },
     "execution_count": 72,
     "metadata": {},
     "output_type": "execute_result"
    }
   ],
   "source": [
    "sum([x[1] for x in sorted(elf.items(), key=lambda item: item[1], reverse=True)[:3]])"
   ]
  },
  {
   "cell_type": "code",
   "execution_count": null,
   "id": "7de36cca",
   "metadata": {},
   "outputs": [],
   "source": []
  }
 ],
 "metadata": {
  "kernelspec": {
   "display_name": "Python 3 (ipykernel)",
   "language": "python",
   "name": "python3"
  },
  "language_info": {
   "codemirror_mode": {
    "name": "ipython",
    "version": 3
   },
   "file_extension": ".py",
   "mimetype": "text/x-python",
   "name": "python",
   "nbconvert_exporter": "python",
   "pygments_lexer": "ipython3",
   "version": "3.9.15"
  }
 },
 "nbformat": 4,
 "nbformat_minor": 5
}
