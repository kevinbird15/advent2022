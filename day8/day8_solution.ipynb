{
 "cells": [
  {
   "cell_type": "markdown",
   "id": "58288717",
   "metadata": {},
   "source": [
    "# Day 8 Solution"
   ]
  },
  {
   "cell_type": "code",
   "execution_count": 1,
   "id": "5f1284bd",
   "metadata": {
    "ExecuteTime": {
     "end_time": "2022-12-08T15:51:07.658719Z",
     "start_time": "2022-12-08T15:51:06.347960Z"
    },
    "scrolled": true
   },
   "outputs": [
    {
     "name": "stdout",
     "output_type": "stream",
     "text": [
      "Defaulting to user installation because normal site-packages is not writeable\n",
      "Looking in indexes: https://pypi.org/simple, https://download.pytorch.org/whl/cu116\n",
      "Requirement already satisfied: numpy in /home/dev/.local/lib/python3.9/site-packages (1.23.5)\n",
      "Note: you may need to restart the kernel to use updated packages.\n"
     ]
    }
   ],
   "source": [
    "pip install numpy"
   ]
  },
  {
   "cell_type": "code",
   "execution_count": 2,
   "id": "d8a4043f",
   "metadata": {
    "ExecuteTime": {
     "end_time": "2022-12-08T15:51:07.749376Z",
     "start_time": "2022-12-08T15:51:07.661027Z"
    }
   },
   "outputs": [],
   "source": [
    "import numpy as np"
   ]
  },
  {
   "cell_type": "code",
   "execution_count": 3,
   "id": "ceeb8cf8",
   "metadata": {
    "ExecuteTime": {
     "end_time": "2022-12-08T15:51:07.753020Z",
     "start_time": "2022-12-08T15:51:07.750498Z"
    }
   },
   "outputs": [],
   "source": [
    "input_data = open('input_data.txt', newline='\\n').read()"
   ]
  },
  {
   "cell_type": "markdown",
   "id": "bc52525c",
   "metadata": {},
   "source": [
    "### Problem #1"
   ]
  },
  {
   "cell_type": "code",
   "execution_count": 4,
   "id": "91683f76",
   "metadata": {
    "ExecuteTime": {
     "end_time": "2022-12-08T15:51:07.763333Z",
     "start_time": "2022-12-08T15:51:07.754380Z"
    }
   },
   "outputs": [],
   "source": [
    "sample = \"\"\"30373\n",
    "25512\n",
    "65332\n",
    "33549\n",
    "35390\"\"\"\n",
    "\n",
    "sample = \"\"\"30373\n",
    "25512\n",
    "65432\n",
    "33649\n",
    "35390\"\"\""
   ]
  },
  {
   "cell_type": "code",
   "execution_count": 5,
   "id": "767b2c04",
   "metadata": {
    "ExecuteTime": {
     "end_time": "2022-12-08T15:51:07.773618Z",
     "start_time": "2022-12-08T15:51:07.765396Z"
    }
   },
   "outputs": [],
   "source": [
    "tree_grid_x = []\n",
    "\n",
    "for row in input_data.splitlines():\n",
    "# for row in sample.splitlines():\n",
    "    tree_grid_y = []\n",
    "    for col in row:\n",
    "        tree_grid_y+=[int(col)]\n",
    "    tree_grid_x+=[tree_grid_y]"
   ]
  },
  {
   "cell_type": "code",
   "execution_count": 6,
   "id": "c68c3e43",
   "metadata": {
    "ExecuteTime": {
     "end_time": "2022-12-08T15:51:07.784662Z",
     "start_time": "2022-12-08T15:51:07.774807Z"
    }
   },
   "outputs": [],
   "source": [
    "tree_grid = np.array(tree_grid_x)"
   ]
  },
  {
   "cell_type": "code",
   "execution_count": 7,
   "id": "fc823118",
   "metadata": {
    "ExecuteTime": {
     "end_time": "2022-12-08T15:51:07.793422Z",
     "start_time": "2022-12-08T15:51:07.785695Z"
    }
   },
   "outputs": [],
   "source": [
    "def is_visible(array1):\n",
    "    largest_from_left = -1\n",
    "    largest_from_right = -1\n",
    "    lfl_array = []\n",
    "    lfr_array = []\n",
    "    for i in range(len(array1)):\n",
    "        if array1[i]>largest_from_left:\n",
    "            lfl_array.append(True)\n",
    "            largest_from_left=array1[i]\n",
    "        else:\n",
    "            lfl_array.append(False)\n",
    "    for i in range(len(array1)-1, 0-1, -1):\n",
    "        if array1[i]>largest_from_right:\n",
    "            lfr_array.append(True)\n",
    "            largest_from_right=array1[i]\n",
    "        else:\n",
    "            lfr_array.append(False)\n",
    "    lfr_array.reverse()\n",
    "\n",
    "    result = np.logical_or(lfl_array, lfr_array)\n",
    "    return result"
   ]
  },
  {
   "cell_type": "code",
   "execution_count": 8,
   "id": "97b66e3c",
   "metadata": {
    "ExecuteTime": {
     "end_time": "2022-12-08T15:51:07.829073Z",
     "start_time": "2022-12-08T15:51:07.799080Z"
    }
   },
   "outputs": [],
   "source": [
    "visible_grid_horizontal = []\n",
    "\n",
    "for row in tree_grid:\n",
    "    visible_grid_horizontal.append([is_visible(row)])\n",
    "visible_grid_horizontal = np.concatenate(visible_grid_horizontal, axis=0)"
   ]
  },
  {
   "cell_type": "code",
   "execution_count": 9,
   "id": "224d98aa",
   "metadata": {
    "ExecuteTime": {
     "end_time": "2022-12-08T15:51:07.845180Z",
     "start_time": "2022-12-08T15:51:07.832075Z"
    }
   },
   "outputs": [
    {
     "data": {
      "text/plain": [
       "array([[ True, False, False, ...,  True, False,  True],\n",
       "       [ True, False,  True, ...,  True,  True,  True],\n",
       "       [ True, False, False, ..., False,  True,  True],\n",
       "       ...,\n",
       "       [ True, False, False, ..., False,  True,  True],\n",
       "       [ True, False, False, ...,  True, False,  True],\n",
       "       [ True, False, False, ..., False, False,  True]])"
      ]
     },
     "execution_count": 9,
     "metadata": {},
     "output_type": "execute_result"
    }
   ],
   "source": [
    "visible_grid_horizontal"
   ]
  },
  {
   "cell_type": "code",
   "execution_count": 10,
   "id": "22dee4fc",
   "metadata": {
    "ExecuteTime": {
     "end_time": "2022-12-08T15:51:07.861769Z",
     "start_time": "2022-12-08T15:51:07.846999Z"
    }
   },
   "outputs": [],
   "source": [
    "visible_grid_vertical = []\n",
    "\n",
    "for col in tree_grid.T:\n",
    "    visible_grid_vertical.append([is_visible(col)])\n",
    "visible_grid_vertical = np.concatenate(visible_grid_vertical, axis=0).T"
   ]
  },
  {
   "cell_type": "code",
   "execution_count": 11,
   "id": "b965d5ff",
   "metadata": {
    "ExecuteTime": {
     "end_time": "2022-12-08T15:51:07.870818Z",
     "start_time": "2022-12-08T15:51:07.863296Z"
    }
   },
   "outputs": [
    {
     "data": {
      "text/plain": [
       "array([[ True,  True,  True, ...,  True,  True,  True],\n",
       "       [False, False,  True, ...,  True,  True, False],\n",
       "       [False, False, False, ..., False, False, False],\n",
       "       ...,\n",
       "       [False, False, False, ..., False,  True, False],\n",
       "       [False, False, False, ...,  True, False, False],\n",
       "       [ True,  True,  True, ...,  True,  True,  True]])"
      ]
     },
     "execution_count": 11,
     "metadata": {},
     "output_type": "execute_result"
    }
   ],
   "source": [
    "visible_grid_vertical"
   ]
  },
  {
   "cell_type": "code",
   "execution_count": 12,
   "id": "098087e6",
   "metadata": {
    "ExecuteTime": {
     "end_time": "2022-12-08T15:51:07.878246Z",
     "start_time": "2022-12-08T15:51:07.872318Z"
    }
   },
   "outputs": [],
   "source": [
    "final_result = np.logical_or(visible_grid_horizontal, visible_grid_vertical)"
   ]
  },
  {
   "cell_type": "code",
   "execution_count": 13,
   "id": "9c45b1d5",
   "metadata": {
    "ExecuteTime": {
     "end_time": "2022-12-08T15:51:07.887251Z",
     "start_time": "2022-12-08T15:51:07.879922Z"
    }
   },
   "outputs": [
    {
     "data": {
      "text/plain": [
       "array([[2, 2, 0, ..., 1, 0, 0],\n",
       "       [0, 0, 2, ..., 2, 1, 0],\n",
       "       [2, 0, 0, ..., 1, 1, 0],\n",
       "       ...,\n",
       "       [1, 0, 0, ..., 1, 2, 0],\n",
       "       [2, 1, 1, ..., 2, 1, 1],\n",
       "       [2, 2, 2, ..., 0, 1, 2]])"
      ]
     },
     "execution_count": 13,
     "metadata": {},
     "output_type": "execute_result"
    }
   ],
   "source": [
    "tree_grid"
   ]
  },
  {
   "cell_type": "code",
   "execution_count": 14,
   "id": "bfd56211",
   "metadata": {
    "ExecuteTime": {
     "end_time": "2022-12-08T15:51:07.895928Z",
     "start_time": "2022-12-08T15:51:07.890330Z"
    }
   },
   "outputs": [
    {
     "data": {
      "text/plain": [
       "array([[ True,  True,  True, ...,  True,  True,  True],\n",
       "       [ True, False,  True, ...,  True,  True,  True],\n",
       "       [ True, False, False, ..., False,  True,  True],\n",
       "       ...,\n",
       "       [ True, False, False, ..., False,  True,  True],\n",
       "       [ True, False, False, ...,  True, False,  True],\n",
       "       [ True,  True,  True, ...,  True,  True,  True]])"
      ]
     },
     "execution_count": 14,
     "metadata": {},
     "output_type": "execute_result"
    }
   ],
   "source": [
    "final_result"
   ]
  },
  {
   "cell_type": "code",
   "execution_count": 15,
   "id": "58793f1e",
   "metadata": {
    "ExecuteTime": {
     "end_time": "2022-12-08T15:51:07.904885Z",
     "start_time": "2022-12-08T15:51:07.897239Z"
    }
   },
   "outputs": [
    {
     "data": {
      "text/plain": [
       "1789"
      ]
     },
     "execution_count": 15,
     "metadata": {},
     "output_type": "execute_result"
    }
   ],
   "source": [
    "final_result.sum()"
   ]
  },
  {
   "cell_type": "markdown",
   "id": "e28aa981",
   "metadata": {
    "ExecuteTime": {
     "end_time": "2022-12-01T16:23:22.851643Z",
     "start_time": "2022-12-01T16:23:22.842360Z"
    }
   },
   "source": [
    "### Problem #2"
   ]
  },
  {
   "cell_type": "code",
   "execution_count": 16,
   "id": "cc47a49e",
   "metadata": {
    "ExecuteTime": {
     "end_time": "2022-12-08T15:51:07.912136Z",
     "start_time": "2022-12-08T15:51:07.906188Z"
    }
   },
   "outputs": [],
   "source": [
    "from itertools import product"
   ]
  },
  {
   "cell_type": "code",
   "execution_count": 17,
   "id": "530c203c",
   "metadata": {
    "ExecuteTime": {
     "end_time": "2022-12-08T15:51:07.923134Z",
     "start_time": "2022-12-08T15:51:07.913347Z"
    }
   },
   "outputs": [],
   "source": [
    "class Tree:\n",
    "    def __init__(self, coords, tree_grid):\n",
    "        self.coords=coords\n",
    "        self.x,self.y=self.coords\n",
    "        self.tree_grid=tree_grid\n",
    "        self.tree_height=tree_grid[self.x,self.y]\n",
    "    \n",
    "    @property\n",
    "    def trees_to_left(self):\n",
    "        trees = self.tree_grid[self.x]\n",
    "        if len(trees)==0:\n",
    "            return np.array([])\n",
    "        return np.flip(trees[:self.y])\n",
    "    \n",
    "    @property\n",
    "    def trees_to_right(self):\n",
    "        trees = self.tree_grid[self.x]\n",
    "        if len(trees)==0:\n",
    "            return np.array([])\n",
    "        return trees[self.y+1:]\n",
    "    \n",
    "    @property\n",
    "    def trees_to_bottom(self):\n",
    "        trees = self.tree_grid.T[self.y]\n",
    "        if len(trees)==0:\n",
    "            return np.array([])\n",
    "        return np.flip(trees[:self.x])\n",
    "    \n",
    "    @property\n",
    "    def trees_to_top(self):\n",
    "        trees = self.tree_grid.T[self.y]\n",
    "        if len(trees)==0:\n",
    "            return np.array([])\n",
    "        return trees[self.x+1:]\n",
    "    \n",
    "    @property\n",
    "    def view_left(self):\n",
    "        trees_to_left = self.trees_to_left\n",
    "        if len(trees_to_left)==0:\n",
    "            return 0\n",
    "        for view_score,next_tree_height in enumerate(self.trees_to_left, 1):\n",
    "            if next_tree_height >= self.tree_height:\n",
    "                break\n",
    "        return view_score\n",
    "    \n",
    "    @property\n",
    "    def view_right(self):\n",
    "        trees_to_right = self.trees_to_right\n",
    "        if len(trees_to_right)==0:\n",
    "            return 0\n",
    "        for view_score,next_tree_height in enumerate(self.trees_to_right, 1):\n",
    "            if next_tree_height >= self.tree_height:\n",
    "                break\n",
    "        return view_score\n",
    "    \n",
    "    @property\n",
    "    def view_bottom(self):\n",
    "        trees_to_bottom = self.trees_to_bottom\n",
    "        if len(trees_to_bottom)==0:\n",
    "            return 0\n",
    "        for view_score,next_tree_height in enumerate(self.trees_to_bottom, 1):\n",
    "            if next_tree_height >= self.tree_height:\n",
    "                break\n",
    "        return view_score\n",
    "    @property\n",
    "    def view_top(self):\n",
    "        trees_to_top = self.trees_to_top\n",
    "        if len(trees_to_top)==0:\n",
    "            return 0\n",
    "        for view_score,next_tree_height in enumerate(self.trees_to_top, 1):\n",
    "            if next_tree_height >= self.tree_height:\n",
    "                break\n",
    "        return view_score\n",
    "    \n",
    "    @property\n",
    "    def view_score(self):\n",
    "        return self.view_left*self.view_right*self.view_top*self.view_bottom\n",
    "        \n",
    "    def __repr__(self):\n",
    "        return f\"{self.trees_to_left}\\n{self.trees_to_right}\\n{self.trees_to_bottom}\\n{self.trees_to_top}\""
   ]
  },
  {
   "cell_type": "code",
   "execution_count": 18,
   "id": "a4ee0416",
   "metadata": {
    "ExecuteTime": {
     "end_time": "2022-12-08T15:51:07.961961Z",
     "start_time": "2022-12-08T15:51:07.924281Z"
    }
   },
   "outputs": [],
   "source": [
    "trees = []\n",
    "for x,y in list(product(range(len(tree_grid[0])),range(len(tree_grid[:,0])))):\n",
    "    trees.append(Tree((x,y), tree_grid))"
   ]
  },
  {
   "cell_type": "code",
   "execution_count": 19,
   "id": "ce7d657d",
   "metadata": {
    "ExecuteTime": {
     "end_time": "2022-12-08T15:51:08.063660Z",
     "start_time": "2022-12-08T15:51:07.963112Z"
    }
   },
   "outputs": [
    {
     "data": {
      "text/plain": [
       "314820"
      ]
     },
     "execution_count": 19,
     "metadata": {},
     "output_type": "execute_result"
    }
   ],
   "source": [
    "max([t.view_score for t in trees])"
   ]
  },
  {
   "cell_type": "markdown",
   "id": "b4372e12",
   "metadata": {},
   "source": [
    "Attempt 1 that failed:"
   ]
  },
  {
   "cell_type": "code",
   "execution_count": 93,
   "id": "6d7e4010",
   "metadata": {
    "ExecuteTime": {
     "end_time": "2022-12-08T06:46:48.421321Z",
     "start_time": "2022-12-08T06:46:48.412314Z"
    }
   },
   "outputs": [],
   "source": [
    "tmp = is_visible(tree_grid[1])"
   ]
  },
  {
   "cell_type": "code",
   "execution_count": 94,
   "id": "41e2bee2",
   "metadata": {
    "ExecuteTime": {
     "end_time": "2022-12-08T06:46:49.013224Z",
     "start_time": "2022-12-08T06:46:49.003515Z"
    }
   },
   "outputs": [],
   "source": [
    "def scenic_score(array1):\n",
    "    largest_from_left = -1\n",
    "    viewing_score_left = 0\n",
    "    viewing_score_right = 0\n",
    "    prev_val_left=-1\n",
    "    prev_val_right=-1\n",
    "    largest_from_right = -1\n",
    "    lfl_array = []\n",
    "    lfr_array = []\n",
    "    for i in range(len(array1)):\n",
    "        if prev_val_left==-1:\n",
    "            viewing_score_left=0\n",
    "        elif prev_val_left < array1[i]:\n",
    "            viewing_score_left+=1\n",
    "#             print(f\"{prev_val_left} < {array1[i]} increasing viewing score left to {viewing_score_left}\")\n",
    "        else:\n",
    "            viewing_score_left=1\n",
    "#             print(f\"{prev_val_left} is not < {array1[i]} setting viewing score left to {viewing_score_left}\")\n",
    "        prev_val_left=array1[i]\n",
    "#         print(viewing_score_left)\n",
    "        lfl_array.append(viewing_score_left)\n",
    "    for i in range(len(array1)-1, 0-1, -1):\n",
    "        if prev_val_right==-1:\n",
    "            viewing_score_right=0\n",
    "        elif prev_val_right < array1[i]:\n",
    "            viewing_score_right+=1\n",
    "#             print(f\"{prev_val_right} < {array1[i]} increasing viewing score right to {viewing_score_right}\")\n",
    "        else:\n",
    "            viewing_score_right=1\n",
    "#             print(f\"{prev_val_right} is not < {array1[i]} setting viewing score right to {viewing_score_right}\")\n",
    "        prev_val_right=array1[i]\n",
    "        lfr_array.append(viewing_score_right)\n",
    "#         print(viewing_score_right)\n",
    "    lfr_array.reverse()\n",
    "#     print(lfl_array, lfr_array)\n",
    "    result = np.array(lfl_array)*np.array(lfr_array)\n",
    "    return result"
   ]
  },
  {
   "cell_type": "code",
   "execution_count": 95,
   "id": "48341e89",
   "metadata": {
    "ExecuteTime": {
     "end_time": "2022-12-08T06:46:49.660578Z",
     "start_time": "2022-12-08T06:46:49.657333Z"
    }
   },
   "outputs": [
    {
     "data": {
      "text/plain": [
       "array([[3, 0, 3, 7, 3],\n",
       "       [2, 5, 5, 1, 2],\n",
       "       [6, 5, 4, 3, 2],\n",
       "       [3, 3, 6, 4, 9],\n",
       "       [3, 5, 3, 9, 0]])"
      ]
     },
     "execution_count": 95,
     "metadata": {},
     "output_type": "execute_result"
    }
   ],
   "source": [
    "tree_grid"
   ]
  },
  {
   "cell_type": "code",
   "execution_count": 96,
   "id": "67212806",
   "metadata": {
    "ExecuteTime": {
     "end_time": "2022-12-08T06:46:49.947998Z",
     "start_time": "2022-12-08T06:46:49.944825Z"
    }
   },
   "outputs": [],
   "source": [
    "visible_grid_horizontal = []\n",
    "\n",
    "for row in tree_grid:\n",
    "    visible_grid_horizontal.append([scenic_score(row)])\n",
    "visible_grid_horizontal = np.concatenate(visible_grid_horizontal, axis=0)"
   ]
  },
  {
   "cell_type": "code",
   "execution_count": 97,
   "id": "cd229e77",
   "metadata": {
    "ExecuteTime": {
     "end_time": "2022-12-08T06:46:50.749173Z",
     "start_time": "2022-12-08T06:46:50.745651Z"
    }
   },
   "outputs": [
    {
     "data": {
      "text/plain": [
       "array([[0, 1, 2, 3, 0],\n",
       "       [0, 1, 2, 1, 0],\n",
       "       [0, 3, 2, 1, 0],\n",
       "       [0, 1, 4, 1, 0],\n",
       "       [0, 2, 1, 2, 0]])"
      ]
     },
     "execution_count": 97,
     "metadata": {},
     "output_type": "execute_result"
    }
   ],
   "source": [
    "visible_grid_horizontal"
   ]
  },
  {
   "cell_type": "code",
   "execution_count": 98,
   "id": "99e35823",
   "metadata": {
    "ExecuteTime": {
     "end_time": "2022-12-08T06:46:51.567031Z",
     "start_time": "2022-12-08T06:46:51.559513Z"
    }
   },
   "outputs": [],
   "source": [
    "visible_grid_vertical = []\n",
    "\n",
    "for col in tree_grid.T:\n",
    "    visible_grid_vertical.append([scenic_score(col)])\n",
    "visible_grid_vertical = np.concatenate(visible_grid_vertical, axis=0).T"
   ]
  },
  {
   "cell_type": "code",
   "execution_count": 99,
   "id": "5c49e68d",
   "metadata": {
    "ExecuteTime": {
     "end_time": "2022-12-08T06:46:51.892528Z",
     "start_time": "2022-12-08T06:46:51.889138Z"
    }
   },
   "outputs": [
    {
     "data": {
      "text/plain": [
       "8"
      ]
     },
     "execution_count": 99,
     "metadata": {},
     "output_type": "execute_result"
    }
   ],
   "source": [
    "(visible_grid_horizontal*visible_grid_vertical).max()"
   ]
  },
  {
   "cell_type": "code",
   "execution_count": 111,
   "id": "1c2d58cf",
   "metadata": {
    "ExecuteTime": {
     "end_time": "2022-12-08T06:49:57.042234Z",
     "start_time": "2022-12-08T06:49:57.033906Z"
    }
   },
   "outputs": [],
   "source": [
    "test_array = np.array([3, 6, 4, 5, 3])"
   ]
  },
  {
   "cell_type": "code",
   "execution_count": 112,
   "id": "18beebc2",
   "metadata": {
    "ExecuteTime": {
     "end_time": "2022-12-08T06:49:59.242875Z",
     "start_time": "2022-12-08T06:49:59.239552Z"
    }
   },
   "outputs": [
    {
     "data": {
      "text/plain": [
       "array([False, False, False, False, False])"
      ]
     },
     "execution_count": 112,
     "metadata": {},
     "output_type": "execute_result"
    }
   ],
   "source": [
    "3 > test_array"
   ]
  },
  {
   "cell_type": "code",
   "execution_count": 113,
   "id": "e695a132",
   "metadata": {
    "ExecuteTime": {
     "end_time": "2022-12-08T06:50:10.868430Z",
     "start_time": "2022-12-08T06:50:10.864612Z"
    }
   },
   "outputs": [
    {
     "data": {
      "text/plain": [
       "array([ True, False,  True,  True,  True])"
      ]
     },
     "execution_count": 113,
     "metadata": {},
     "output_type": "execute_result"
    }
   ],
   "source": [
    "6>test_array"
   ]
  },
  {
   "cell_type": "code",
   "execution_count": 108,
   "id": "b2637614",
   "metadata": {
    "ExecuteTime": {
     "end_time": "2022-12-08T06:49:12.510349Z",
     "start_time": "2022-12-08T06:49:12.503473Z"
    }
   },
   "outputs": [
    {
     "data": {
      "text/plain": [
       "array([3, 5, 4, 6, 3])"
      ]
     },
     "execution_count": 108,
     "metadata": {},
     "output_type": "execute_result"
    }
   ],
   "source": [
    "tree_grid[:,2]"
   ]
  },
  {
   "cell_type": "code",
   "execution_count": 101,
   "id": "cbc5e998",
   "metadata": {
    "ExecuteTime": {
     "end_time": "2022-12-08T06:46:52.743363Z",
     "start_time": "2022-12-08T06:46:52.739263Z"
    }
   },
   "outputs": [
    {
     "data": {
      "text/plain": [
       "array([0, 3, 4, 3, 0])"
      ]
     },
     "execution_count": 101,
     "metadata": {},
     "output_type": "execute_result"
    }
   ],
   "source": [
    "visible_grid_horizontal.max(axis=0)"
   ]
  },
  {
   "cell_type": "code",
   "execution_count": 102,
   "id": "c5fbd979",
   "metadata": {
    "ExecuteTime": {
     "end_time": "2022-12-08T06:46:53.410959Z",
     "start_time": "2022-12-08T06:46:53.407915Z"
    }
   },
   "outputs": [
    {
     "data": {
      "text/plain": [
       "array([0, 2, 4, 3, 0])"
      ]
     },
     "execution_count": 102,
     "metadata": {},
     "output_type": "execute_result"
    }
   ],
   "source": [
    "visible_grid_vertical.max(axis=1)"
   ]
  },
  {
   "cell_type": "code",
   "execution_count": 103,
   "id": "7dbbac77",
   "metadata": {
    "ExecuteTime": {
     "end_time": "2022-12-08T06:46:54.132722Z",
     "start_time": "2022-12-08T06:46:54.117841Z"
    }
   },
   "outputs": [
    {
     "data": {
      "text/plain": [
       "array([], shape=(5, 0), dtype=int64)"
      ]
     },
     "execution_count": 103,
     "metadata": {},
     "output_type": "execute_result"
    }
   ],
   "source": [
    "tree_grid[:20,70:80]"
   ]
  },
  {
   "cell_type": "code",
   "execution_count": 76,
   "id": "c355fbef",
   "metadata": {
    "ExecuteTime": {
     "end_time": "2022-12-08T06:45:48.619859Z",
     "start_time": "2022-12-08T06:45:48.615231Z"
    }
   },
   "outputs": [
    {
     "data": {
      "text/plain": [
       "array([[ 0,  0,  0,  0,  0,  0,  0,  0,  0,  0],\n",
       "       [ 2,  1,  2,  2,  1,  1,  1,  2,  1,  1],\n",
       "       [ 1,  2,  1,  1,  2,  2,  4,  1,  2,  4],\n",
       "       [ 2,  6,  4,  2,  1,  6,  1,  6,  1,  1],\n",
       "       [ 6,  1,  1,  1,  2,  1,  2,  2,  2,  2],\n",
       "       [ 1,  6,  2,  2,  1,  4,  2,  1,  6,  6],\n",
       "       [ 2,  2,  6,  6,  1,  1,  1,  4,  1,  1],\n",
       "       [ 3,  1,  1,  1,  4,  4,  4,  1,  4,  2],\n",
       "       [ 2,  1,  2,  1,  1,  1,  1,  4,  1,  2],\n",
       "       [ 1,  2,  1,  6,  1,  2,  4,  1,  4,  1],\n",
       "       [ 4,  2,  1,  2,  4,  9,  1,  4,  1,  2],\n",
       "       [ 1,  1,  4,  1,  1,  2,  4,  1,  4,  3],\n",
       "       [ 4,  4,  1,  2,  2,  1,  1,  1,  1,  2],\n",
       "       [ 1,  1,  2,  3,  3,  4,  4,  4,  4,  1],\n",
       "       [ 1,  2,  9, 16,  4,  1,  1,  1,  1,  2],\n",
       "       [ 1,  1,  2,  3,  2,  2,  6,  2,  4,  9],\n",
       "       [ 1,  1,  1,  2,  1,  6,  2,  1,  1,  2],\n",
       "       [ 1,  1,  1,  1,  2,  1,  1,  2,  4,  1],\n",
       "       [ 1,  1,  1,  1,  2,  2,  4,  1,  1,  4],\n",
       "       [ 1,  2,  4,  4,  1,  1,  1,  2,  4,  1]])"
      ]
     },
     "execution_count": 76,
     "metadata": {},
     "output_type": "execute_result"
    }
   ],
   "source": [
    "visible_grid_vertical[0:20,70:80]"
   ]
  },
  {
   "cell_type": "code",
   "execution_count": 73,
   "id": "8fd534e9",
   "metadata": {
    "ExecuteTime": {
     "end_time": "2022-12-08T06:43:49.973545Z",
     "start_time": "2022-12-08T06:43:49.969761Z"
    }
   },
   "outputs": [
    {
     "data": {
      "text/plain": [
       "array([[  0,   0,   0,   0,   0,   0,   0,   0,   0,   0],\n",
       "       [  4,   1,   4,   4,   1,   1,   1,   4,   2,   1],\n",
       "       [  1,   8,   1,   2,   4,   2,  16,   1,   8,   4],\n",
       "       [  2,  12,  24,   2,   2,   6,   1,  36,   2,   1],\n",
       "       [ 48,   1,   4,   1,   8,   1,   8,   2,   8,   2],\n",
       "       [  1,  60,   8,   6,   2,   4,   8,   1,  36,  12],\n",
       "       [  4,   2,  12,  18,   2,   1,   1,  16,   1,   2],\n",
       "       [ 18,   1,   2,   1,  16,   4,  16,   1,   8,   6],\n",
       "       [  8,   1,   4,   1,   2,   1,   2,  24,   1,   8],\n",
       "       [  1,   8,   1,  24,   1,   4,  24,   1,  16,   1],\n",
       "       [  4,   8,   1,   4,  12,  18,   1,  16,   1,   8],\n",
       "       [  1,   2,  24,   1,   1,   4,  24,   1,   8,  18],\n",
       "       [  8,   8,   1,   8,   2,   1,   3,   2,   1,   4],\n",
       "       [  1,   1,   4,  18,   3,   4,   4,   8,   8,   1],\n",
       "       [  1,   2,  18, 144,   8,   1,   4,   1,   2,   6],\n",
       "       [  2,   1,   4,   9,   4,   2,  24,   2,   4,  36],\n",
       "       [  2,   1,   1,   8,   1,  12,   2,   2,   1,   4],\n",
       "       [  2,   1,   1,   2,  12,   1,   1,   4,  24,   1],\n",
       "       [  2,   1,   1,   2,  12,   2,  16,   1,   2,  12],\n",
       "       [  2,   2,   8,   4,   1,   2,   1,   4,  12,   1]])"
      ]
     },
     "execution_count": 73,
     "metadata": {},
     "output_type": "execute_result"
    }
   ],
   "source": [
    "(visible_grid_vertical*visible_grid_horizontal)[0:20,70:80]"
   ]
  },
  {
   "cell_type": "code",
   "execution_count": 27,
   "id": "e32b5b1c",
   "metadata": {
    "ExecuteTime": {
     "end_time": "2022-12-08T06:37:18.911471Z",
     "start_time": "2022-12-08T06:37:18.897293Z"
    }
   },
   "outputs": [
    {
     "data": {
      "text/plain": [
       "array([14, 41, 50, 67, 92, 21, 46, 25, 21, 78, 21, 39, 49, 46,  2,  5,  4,\n",
       "       24, 30,  7, 49, 16, 72, 47, 79, 60,  2, 12, 29, 59, 20, 80,  4, 62,\n",
       "       79, 61, 49, 34, 43, 88, 74, 18, 34, 59, 69, 29, 69, 70, 82, 23, 13,\n",
       "       60, 68, 67, 91,  8, 30, 33,  4, 66, 27, 19, 26, 10, 79,  8, 11, 24,\n",
       "       53, 50,  4, 87, 66, 14, 75, 10, 95, 27, 54, 95,  6, 75, 63, 73, 32,\n",
       "       10, 33,  7, 36, 61, 15, 41, 66, 46,  4, 14, 41, 39, 20])"
      ]
     },
     "execution_count": 27,
     "metadata": {},
     "output_type": "execute_result"
    }
   ],
   "source": [
    "visible_grid_vertical.argmax(axis=0)"
   ]
  },
  {
   "cell_type": "code",
   "execution_count": 107,
   "id": "89aa8eeb",
   "metadata": {
    "ExecuteTime": {
     "end_time": "2022-12-08T06:47:21.143750Z",
     "start_time": "2022-12-08T06:47:21.138956Z"
    }
   },
   "outputs": [
    {
     "data": {
      "text/plain": [
       "array([[3, 0, 3, 7, 3],\n",
       "       [2, 5, 5, 1, 2],\n",
       "       [6, 5, 4, 3, 2],\n",
       "       [3, 3, 6, 4, 9],\n",
       "       [3, 5, 3, 9, 0]])"
      ]
     },
     "execution_count": 107,
     "metadata": {},
     "output_type": "execute_result"
    }
   ],
   "source": [
    "tree_grid"
   ]
  },
  {
   "cell_type": "code",
   "execution_count": 105,
   "id": "c404a911",
   "metadata": {
    "ExecuteTime": {
     "end_time": "2022-12-08T06:47:09.822526Z",
     "start_time": "2022-12-08T06:47:09.808905Z"
    }
   },
   "outputs": [
    {
     "data": {
      "text/plain": [
       "array([[0, 1, 2, 3, 0],\n",
       "       [0, 1, 2, 1, 0],\n",
       "       [0, 3, 2, 1, 0],\n",
       "       [0, 1, 4, 1, 0],\n",
       "       [0, 2, 1, 2, 0]])"
      ]
     },
     "execution_count": 105,
     "metadata": {},
     "output_type": "execute_result"
    }
   ],
   "source": [
    "visible_grid_horizontal"
   ]
  },
  {
   "cell_type": "code",
   "execution_count": 106,
   "id": "3190128e",
   "metadata": {
    "ExecuteTime": {
     "end_time": "2022-12-08T06:47:12.971176Z",
     "start_time": "2022-12-08T06:47:12.957589Z"
    }
   },
   "outputs": [
    {
     "data": {
      "text/plain": [
       "array([[0, 0, 0, 0, 0],\n",
       "       [1, 1, 2, 1, 1],\n",
       "       [4, 2, 1, 2, 1],\n",
       "       [1, 1, 2, 3, 2],\n",
       "       [0, 0, 0, 0, 0]])"
      ]
     },
     "execution_count": 106,
     "metadata": {},
     "output_type": "execute_result"
    }
   ],
   "source": [
    "visible_grid_vertical"
   ]
  },
  {
   "cell_type": "code",
   "execution_count": 104,
   "id": "cc09c196",
   "metadata": {
    "ExecuteTime": {
     "end_time": "2022-12-08T06:47:02.142946Z",
     "start_time": "2022-12-08T06:47:02.136693Z"
    },
    "scrolled": false
   },
   "outputs": [
    {
     "data": {
      "text/plain": [
       "array([[0, 0, 0, 0, 0],\n",
       "       [0, 1, 4, 1, 0],\n",
       "       [0, 6, 2, 2, 0],\n",
       "       [0, 1, 8, 3, 0],\n",
       "       [0, 0, 0, 0, 0]])"
      ]
     },
     "execution_count": 104,
     "metadata": {},
     "output_type": "execute_result"
    }
   ],
   "source": [
    "(visible_grid_horizontal*visible_grid_vertical)"
   ]
  },
  {
   "cell_type": "code",
   "execution_count": 19,
   "id": "ff1fc0c8",
   "metadata": {
    "ExecuteTime": {
     "end_time": "2022-12-08T06:35:41.549999Z",
     "start_time": "2022-12-08T06:35:41.544307Z"
    }
   },
   "outputs": [
    {
     "data": {
      "text/plain": [
       "array([[1459]])"
      ]
     },
     "execution_count": 19,
     "metadata": {},
     "output_type": "execute_result"
    }
   ],
   "source": [
    "(visible_grid_horizontal*visible_grid_vertical).argmax(keepdims=True)"
   ]
  }
 ],
 "metadata": {
  "gist": {
   "data": {
    "description": "day5/day5_solution.ipynb",
    "public": false
   },
   "id": ""
  },
  "kernelspec": {
   "display_name": "Python 3 (ipykernel)",
   "language": "python",
   "name": "python3"
  },
  "language_info": {
   "codemirror_mode": {
    "name": "ipython",
    "version": 3
   },
   "file_extension": ".py",
   "mimetype": "text/x-python",
   "name": "python",
   "nbconvert_exporter": "python",
   "pygments_lexer": "ipython3",
   "version": "3.9.15"
  }
 },
 "nbformat": 4,
 "nbformat_minor": 5
}
