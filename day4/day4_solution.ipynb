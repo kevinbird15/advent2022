{
 "cells": [
  {
   "cell_type": "markdown",
   "id": "fd2f68f8",
   "metadata": {},
   "source": [
    "# Day 4 Solution"
   ]
  },
  {
   "cell_type": "code",
   "execution_count": 1,
   "id": "04600849",
   "metadata": {
    "ExecuteTime": {
     "end_time": "2022-12-04T05:02:39.124198Z",
     "start_time": "2022-12-04T05:02:39.107937Z"
    }
   },
   "outputs": [],
   "source": [
    "from collections import defaultdict"
   ]
  },
  {
   "cell_type": "code",
   "execution_count": 4,
   "id": "af105831",
   "metadata": {
    "ExecuteTime": {
     "end_time": "2022-12-04T05:02:49.941287Z",
     "start_time": "2022-12-04T05:02:49.931173Z"
    }
   },
   "outputs": [],
   "source": [
    "input_data = open('input_data.txt', newline='\\n').read()"
   ]
  },
  {
   "cell_type": "markdown",
   "id": "1924b754",
   "metadata": {},
   "source": [
    "### Problem #1"
   ]
  },
  {
   "cell_type": "code",
   "execution_count": 59,
   "id": "ac8458de",
   "metadata": {
    "ExecuteTime": {
     "end_time": "2022-12-04T05:18:32.824890Z",
     "start_time": "2022-12-04T05:18:32.815347Z"
    }
   },
   "outputs": [],
   "source": [
    "fully_intersected=0\n",
    "for row in input_data.splitlines():\n",
    "    elf1, elf2 = row.split(',')\n",
    "\n",
    "    elf1_begin, elf1_end = elf1.split('-')\n",
    "    elf2_begin, elf2_end = elf2.split('-')\n",
    "\n",
    "    elf1_section = set(range(int(elf1_begin), int(elf1_end)+1))\n",
    "\n",
    "    elf2_section = set(range(int(elf2_begin), int(elf2_end)+1))\n",
    "\n",
    "    elf1_section_len = len(elf1_section)\n",
    "\n",
    "    elf2_section_len = len(elf2_section)\n",
    "\n",
    "    intersected_len = len(elf1_section.intersection(elf2_section))\n",
    "\n",
    "    if intersected_len == elf1_section_len or intersected_len == elf2_section_len:\n",
    "        if elf1_section_len==0:\n",
    "            break\n",
    "        fully_intersected += 1"
   ]
  },
  {
   "cell_type": "code",
   "execution_count": 60,
   "id": "37f00342",
   "metadata": {
    "ExecuteTime": {
     "end_time": "2022-12-04T05:18:36.762056Z",
     "start_time": "2022-12-04T05:18:36.747959Z"
    }
   },
   "outputs": [
    {
     "data": {
      "text/plain": [
       "547"
      ]
     },
     "execution_count": 60,
     "metadata": {},
     "output_type": "execute_result"
    }
   ],
   "source": [
    "fully_intersected"
   ]
  },
  {
   "cell_type": "markdown",
   "id": "6b152743",
   "metadata": {
    "ExecuteTime": {
     "end_time": "2022-12-01T16:23:22.851643Z",
     "start_time": "2022-12-01T16:23:22.842360Z"
    }
   },
   "source": [
    "### Problem #2"
   ]
  },
  {
   "cell_type": "code",
   "execution_count": 57,
   "id": "a38e59ac",
   "metadata": {
    "ExecuteTime": {
     "end_time": "2022-12-04T05:18:24.058681Z",
     "start_time": "2022-12-04T05:18:24.023056Z"
    }
   },
   "outputs": [],
   "source": [
    "total_overlap=0\n",
    "for row in input_data.splitlines():\n",
    "    elf1, elf2 = row.split(',')\n",
    "\n",
    "    elf1_begin, elf1_end = elf1.split('-')\n",
    "    elf2_begin, elf2_end = elf2.split('-')\n",
    "\n",
    "    elf1_section = set(range(int(elf1_begin), int(elf1_end)+1))\n",
    "\n",
    "    elf2_section = set(range(int(elf2_begin), int(elf2_end)+1))\n",
    "\n",
    "    elf1_section_len = len(elf1_section)\n",
    "\n",
    "    elf2_section_len = len(elf2_section)\n",
    "\n",
    "    intersected_len = len(elf1_section.intersection(elf2_section))\n",
    "\n",
    "    if intersected_len!=0:\n",
    "        total_overlap+=1    \n",
    "#         print(elf1,elf2)\n",
    "#         print(len(elf1_section.intersection(elf2_section)), elf1_section.intersection(elf2_section))\n",
    "    if intersected_len == elf1_section_len or intersected_len == elf2_section_len:\n",
    "#         print(intersected_len, elf1_section_len, elf2_section_len)\n",
    "        if elf1_section_len==0:\n",
    "            break\n",
    "        fully_intersected += 1"
   ]
  },
  {
   "cell_type": "code",
   "execution_count": 58,
   "id": "9280fac9",
   "metadata": {
    "ExecuteTime": {
     "end_time": "2022-12-04T05:18:25.768384Z",
     "start_time": "2022-12-04T05:18:25.764214Z"
    }
   },
   "outputs": [
    {
     "data": {
      "text/plain": [
       "843"
      ]
     },
     "execution_count": 58,
     "metadata": {},
     "output_type": "execute_result"
    }
   ],
   "source": [
    "total_overlap"
   ]
  }
 ],
 "metadata": {
  "kernelspec": {
   "display_name": "Python 3 (ipykernel)",
   "language": "python",
   "name": "python3"
  },
  "language_info": {
   "codemirror_mode": {
    "name": "ipython",
    "version": 3
   },
   "file_extension": ".py",
   "mimetype": "text/x-python",
   "name": "python",
   "nbconvert_exporter": "python",
   "pygments_lexer": "ipython3",
   "version": "3.9.15"
  }
 },
 "nbformat": 4,
 "nbformat_minor": 5
}
