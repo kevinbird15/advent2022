{
 "cells": [
  {
   "cell_type": "markdown",
   "id": "c08bee93",
   "metadata": {},
   "source": [
    "# Day 5 Solution"
   ]
  },
  {
   "cell_type": "code",
   "execution_count": 1,
   "id": "07d31224",
   "metadata": {
    "ExecuteTime": {
     "end_time": "2022-12-05T05:45:21.548025Z",
     "start_time": "2022-12-05T05:45:21.522315Z"
    }
   },
   "outputs": [],
   "source": [
    "import re"
   ]
  },
  {
   "cell_type": "code",
   "execution_count": 2,
   "id": "b204305b",
   "metadata": {
    "ExecuteTime": {
     "end_time": "2022-12-05T05:45:21.566989Z",
     "start_time": "2022-12-05T05:45:21.555812Z"
    }
   },
   "outputs": [],
   "source": [
    "from collections import defaultdict"
   ]
  },
  {
   "cell_type": "code",
   "execution_count": 3,
   "id": "0964076b",
   "metadata": {
    "ExecuteTime": {
     "end_time": "2022-12-05T05:45:21.577636Z",
     "start_time": "2022-12-05T05:45:21.572541Z"
    }
   },
   "outputs": [],
   "source": [
    "input_data = open('input_data.txt', newline='\\n').read()"
   ]
  },
  {
   "cell_type": "markdown",
   "id": "ae9132bf",
   "metadata": {},
   "source": [
    "### Problem #1"
   ]
  },
  {
   "cell_type": "code",
   "execution_count": 4,
   "id": "d7076e3f",
   "metadata": {
    "ExecuteTime": {
     "end_time": "2022-12-05T05:45:21.585549Z",
     "start_time": "2022-12-05T05:45:21.581084Z"
    }
   },
   "outputs": [],
   "source": [
    "stack_start, instructions = input_data.split('\\n\\n')"
   ]
  },
  {
   "cell_type": "code",
   "execution_count": 5,
   "id": "f1b2ccd6",
   "metadata": {
    "ExecuteTime": {
     "end_time": "2022-12-05T05:45:21.593961Z",
     "start_time": "2022-12-05T05:45:21.587552Z"
    }
   },
   "outputs": [],
   "source": [
    "stacks = defaultdict(lambda: [])"
   ]
  },
  {
   "cell_type": "code",
   "execution_count": 6,
   "id": "9036f002",
   "metadata": {
    "ExecuteTime": {
     "end_time": "2022-12-05T05:45:21.602372Z",
     "start_time": "2022-12-05T05:45:21.595587Z"
    }
   },
   "outputs": [],
   "source": [
    "pattern = r\"(...)\\s?\""
   ]
  },
  {
   "cell_type": "code",
   "execution_count": 7,
   "id": "194624d1",
   "metadata": {
    "ExecuteTime": {
     "end_time": "2022-12-05T05:45:21.609625Z",
     "start_time": "2022-12-05T05:45:21.603793Z"
    }
   },
   "outputs": [],
   "source": [
    "# re.findall(pattern, stack_start.splitlines()[0:-1])"
   ]
  },
  {
   "cell_type": "code",
   "execution_count": 8,
   "id": "4450e899",
   "metadata": {
    "ExecuteTime": {
     "end_time": "2022-12-05T05:45:21.617496Z",
     "start_time": "2022-12-05T05:45:21.610825Z"
    }
   },
   "outputs": [
    {
     "name": "stdout",
     "output_type": "stream",
     "text": [
      "            [M] [S] [S]            \n",
      "        [M] [N] [L] [T] [Q]        \n",
      "[G]     [P] [C] [F] [G] [T]        \n",
      "[B]     [J] [D] [P] [V] [F] [F]    \n",
      "[D]     [D] [G] [C] [Z] [H] [B] [G]\n",
      "[C] [G] [Q] [L] [N] [D] [M] [D] [Q]\n",
      "[P] [V] [S] [S] [B] [B] [Z] [M] [C]\n",
      "[R] [H] [N] [P] [J] [Q] [B] [C] [F]\n",
      " 1   2   3   4   5   6   7   8   9 \n"
     ]
    }
   ],
   "source": [
    "print(stack_start)"
   ]
  },
  {
   "cell_type": "code",
   "execution_count": 9,
   "id": "5e01f7b5",
   "metadata": {
    "ExecuteTime": {
     "end_time": "2022-12-05T05:45:21.626623Z",
     "start_time": "2022-12-05T05:45:21.619332Z"
    }
   },
   "outputs": [
    {
     "name": "stdout",
     "output_type": "stream",
     "text": [
      "defaultdict(<function <lambda> at 0x7ff1446323a0>, {4: ['[P]', '[S]', '[L]', '[G]', '[D]', '[C]', '[N]', '[M]'], 5: ['[J]', '[B]', '[N]', '[C]', '[P]', '[F]', '[L]', '[S]'], 6: ['[Q]', '[B]', '[D]', '[Z]', '[V]', '[G]', '[T]', '[S]'], 3: ['[N]', '[S]', '[Q]', '[D]', '[J]', '[P]', '[M]'], 7: ['[B]', '[Z]', '[M]', '[H]', '[F]', '[T]', '[Q]'], 1: ['[R]', '[P]', '[C]', '[D]', '[B]', '[G]'], 8: ['[C]', '[M]', '[D]', '[B]', '[F]'], 9: ['[F]', '[C]', '[Q]', '[G]'], 2: ['[H]', '[V]', '[G]']})\n"
     ]
    }
   ],
   "source": [
    "stacks = defaultdict(lambda: [])\n",
    "for stack_row in stack_start.splitlines()[:-1]:\n",
    "    for stack_num, stack_item in enumerate(re.findall(pattern, stack_row), start=1):\n",
    "        if stack_item == '   ':\n",
    "            continue\n",
    "        stacks[stack_num] = [stack_item] + stacks[stack_num] \n",
    "#         print(stack_num, stack_item)\n",
    "        \n",
    "print(stacks)"
   ]
  },
  {
   "cell_type": "code",
   "execution_count": 10,
   "id": "6b55b73c",
   "metadata": {
    "ExecuteTime": {
     "end_time": "2022-12-05T05:45:21.634158Z",
     "start_time": "2022-12-05T05:45:21.627609Z"
    }
   },
   "outputs": [],
   "source": [
    "pattern_instructions = r\"move (\\d+) from (\\d+) to (\\d+)\""
   ]
  },
  {
   "cell_type": "code",
   "execution_count": 11,
   "id": "eb3f68f7",
   "metadata": {
    "ExecuteTime": {
     "end_time": "2022-12-05T05:45:21.644423Z",
     "start_time": "2022-12-05T05:45:21.635187Z"
    }
   },
   "outputs": [],
   "source": [
    "for instruction in instructions.splitlines():\n",
    "#     print(\"instructions\", instruction)\n",
    "    number_to_move, from_stack, to_stack = re.findall(pattern_instructions, instruction)[0]\n",
    "    for _ in range(int(number_to_move)):\n",
    "        item_to_move = stacks[int(from_stack)].pop()\n",
    "        stacks[int(to_stack)].append(item_to_move)\n",
    "#         print(f\"moving {item_to_move} from {from_stack} to {to_stack}\")"
   ]
  },
  {
   "cell_type": "code",
   "execution_count": 12,
   "id": "47e67bc4",
   "metadata": {
    "ExecuteTime": {
     "end_time": "2022-12-05T05:45:21.653190Z",
     "start_time": "2022-12-05T05:45:21.645574Z"
    },
    "scrolled": true
   },
   "outputs": [
    {
     "name": "stdout",
     "output_type": "stream",
     "text": [
      "defaultdict(<function <lambda> at 0x7ff1446323a0>, {4: ['[S]', '[D]', '[G]', '[Q]', '[J]', '[J]', '[S]', '[D]', '[F]', '[C]', '[M]', '[V]', '[H]', '[H]', '[Q]', '[L]', '[G]'], 5: ['[S]', '[F]'], 6: ['[G]'], 3: ['[N]'], 7: ['[M]'], 1: ['[P]', '[S]', '[C]', '[D]', '[F]', '[Q]', '[P]', '[B]', '[C]', '[G]', '[V]', '[Q]', '[Z]', '[B]', '[P]', '[P]', '[R]', '[M]', '[M]', '[C]', '[D]', '[T]', '[G]', '[D]', '[B]', '[B]', '[B]', '[Z]', '[N]', '[C]', '[T]'], 8: ['[F]'], 9: ['[N]'], 2: ['[L]']})\n"
     ]
    }
   ],
   "source": [
    "print(stacks)"
   ]
  },
  {
   "cell_type": "markdown",
   "id": "ed4acf68",
   "metadata": {
    "ExecuteTime": {
     "end_time": "2022-12-01T16:23:22.851643Z",
     "start_time": "2022-12-01T16:23:22.842360Z"
    }
   },
   "source": [
    "### Problem #2"
   ]
  },
  {
   "cell_type": "code",
   "execution_count": 13,
   "id": "74536277",
   "metadata": {
    "ExecuteTime": {
     "end_time": "2022-12-05T05:45:21.672761Z",
     "start_time": "2022-12-05T05:45:21.654346Z"
    }
   },
   "outputs": [
    {
     "name": "stdout",
     "output_type": "stream",
     "text": [
      "defaultdict(<function <lambda> at 0x7ff144603940>, {4: ['[P]', '[S]', '[L]', '[G]', '[D]', '[C]', '[N]', '[M]'], 5: ['[J]', '[B]', '[N]', '[C]', '[P]', '[F]', '[L]', '[S]'], 6: ['[Q]', '[B]', '[D]', '[Z]', '[V]', '[G]', '[T]', '[S]'], 3: ['[N]', '[S]', '[Q]', '[D]', '[J]', '[P]', '[M]'], 7: ['[B]', '[Z]', '[M]', '[H]', '[F]', '[T]', '[Q]'], 1: ['[R]', '[P]', '[C]', '[D]', '[B]', '[G]'], 8: ['[C]', '[M]', '[D]', '[B]', '[F]'], 9: ['[F]', '[C]', '[Q]', '[G]'], 2: ['[H]', '[V]', '[G]']})\n"
     ]
    }
   ],
   "source": [
    "stacks = defaultdict(lambda: [])\n",
    "for stack_row in stack_start.splitlines()[:-1]:\n",
    "    for stack_num, stack_item in enumerate(re.findall(pattern, stack_row), start=1):\n",
    "        if stack_item == '   ':\n",
    "            continue\n",
    "        stacks[stack_num] = [stack_item] + stacks[stack_num] \n",
    "#         print(stack_num, stack_item)\n",
    "        \n",
    "print(stacks)"
   ]
  },
  {
   "cell_type": "code",
   "execution_count": 14,
   "id": "37eafd87",
   "metadata": {
    "ExecuteTime": {
     "end_time": "2022-12-05T05:45:21.689067Z",
     "start_time": "2022-12-05T05:45:21.678680Z"
    }
   },
   "outputs": [
    {
     "name": "stdout",
     "output_type": "stream",
     "text": [
      "            [M] [S] [S]            \n",
      "        [M] [N] [L] [T] [Q]        \n",
      "[G]     [P] [C] [F] [G] [T]        \n",
      "[B]     [J] [D] [P] [V] [F] [F]    \n",
      "[D]     [D] [G] [C] [Z] [H] [B] [G]\n",
      "[C] [G] [Q] [L] [N] [D] [M] [D] [Q]\n",
      "[P] [V] [S] [S] [B] [B] [Z] [M] [C]\n",
      "[R] [H] [N] [P] [J] [Q] [B] [C] [F]\n",
      " 1   2   3   4   5   6   7   8   9 \n"
     ]
    }
   ],
   "source": [
    "print(stack_start)"
   ]
  },
  {
   "cell_type": "code",
   "execution_count": 15,
   "id": "303bae2a",
   "metadata": {
    "ExecuteTime": {
     "end_time": "2022-12-05T05:45:21.710413Z",
     "start_time": "2022-12-05T05:45:21.698073Z"
    }
   },
   "outputs": [],
   "source": [
    "for instruction in instructions.splitlines():\n",
    "#     print(\"instructions\", instruction)\n",
    "    number_to_move, from_stack, to_stack = re.findall(pattern_instructions, instruction)[0]\n",
    "    items_to_move = stacks[int(from_stack)][-int(number_to_move):]\n",
    "#     print(f\"moving {items_to_move} from {from_stack} to {to_stack}\")\n",
    "    stacks[int(from_stack)] = stacks[int(from_stack)][:-int(number_to_move)]\n",
    "    stacks[int(to_stack)] = stacks[int(to_stack)]+items_to_move\n",
    "#     for _ in range(int(number_to_move)):\n",
    "#         item_to_move = stacks[int(from_stack)].pop()\n",
    "#         stacks[int(to_stack)].append(item_to_move)\n",
    "#         print(f\"moving {item_to_move} from {from_stack} to {to_stack}\")"
   ]
  },
  {
   "cell_type": "code",
   "execution_count": 16,
   "id": "4555c508",
   "metadata": {
    "ExecuteTime": {
     "end_time": "2022-12-05T05:45:21.734217Z",
     "start_time": "2022-12-05T05:45:21.713205Z"
    }
   },
   "outputs": [
    {
     "data": {
      "text/plain": [
       "defaultdict(<function __main__.<lambda>()>,\n",
       "            {4: ['[G]',\n",
       "              '[H]',\n",
       "              '[F]',\n",
       "              '[Z]',\n",
       "              '[V]',\n",
       "              '[V]',\n",
       "              '[C]',\n",
       "              '[M]',\n",
       "              '[T]',\n",
       "              '[N]',\n",
       "              '[D]',\n",
       "              '[B]',\n",
       "              '[P]',\n",
       "              '[C]',\n",
       "              '[Q]',\n",
       "              '[T]',\n",
       "              '[Q]'],\n",
       "             5: ['[B]', '[J]'],\n",
       "             6: ['[C]'],\n",
       "             3: ['[L]'],\n",
       "             7: ['[M]'],\n",
       "             1: ['[L]',\n",
       "              '[B]',\n",
       "              '[P]',\n",
       "              '[F]',\n",
       "              '[J]',\n",
       "              '[C]',\n",
       "              '[Z]',\n",
       "              '[S]',\n",
       "              '[Q]',\n",
       "              '[D]',\n",
       "              '[R]',\n",
       "              '[G]',\n",
       "              '[D]',\n",
       "              '[P]',\n",
       "              '[B]',\n",
       "              '[F]',\n",
       "              '[G]',\n",
       "              '[C]',\n",
       "              '[M]',\n",
       "              '[N]',\n",
       "              '[H]',\n",
       "              '[P]',\n",
       "              '[Q]',\n",
       "              '[S]',\n",
       "              '[M]',\n",
       "              '[D]',\n",
       "              '[N]',\n",
       "              '[G]',\n",
       "              '[S]',\n",
       "              '[S]',\n",
       "              '[F]'],\n",
       "             8: ['[B]'],\n",
       "             9: ['[D]'],\n",
       "             2: ['[G]']})"
      ]
     },
     "execution_count": 16,
     "metadata": {},
     "output_type": "execute_result"
    }
   ],
   "source": [
    "stacks"
   ]
  }
 ],
 "metadata": {
  "kernelspec": {
   "display_name": "Python 3 (ipykernel)",
   "language": "python",
   "name": "python3"
  },
  "language_info": {
   "codemirror_mode": {
    "name": "ipython",
    "version": 3
   },
   "file_extension": ".py",
   "mimetype": "text/x-python",
   "name": "python",
   "nbconvert_exporter": "python",
   "pygments_lexer": "ipython3",
   "version": "3.9.15"
  }
 },
 "nbformat": 4,
 "nbformat_minor": 5
}
