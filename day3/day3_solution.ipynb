{
 "cells": [
  {
   "cell_type": "markdown",
   "id": "cfeef796",
   "metadata": {},
   "source": [
    "# Day 3 Solution"
   ]
  },
  {
   "cell_type": "code",
   "execution_count": 17,
   "id": "0849ea12",
   "metadata": {
    "ExecuteTime": {
     "end_time": "2022-12-03T05:05:48.099294Z",
     "start_time": "2022-12-03T05:05:48.097253Z"
    }
   },
   "outputs": [],
   "source": [
    "from collections import defaultdict"
   ]
  },
  {
   "cell_type": "code",
   "execution_count": 1,
   "id": "fba58ed4",
   "metadata": {
    "ExecuteTime": {
     "end_time": "2022-12-03T05:02:11.279791Z",
     "start_time": "2022-12-03T05:02:11.253486Z"
    }
   },
   "outputs": [],
   "source": [
    "input_data = open('input_data.txt', newline='\\n').read()"
   ]
  },
  {
   "cell_type": "markdown",
   "id": "125848a3",
   "metadata": {},
   "source": [
    "### Problem #1"
   ]
  },
  {
   "cell_type": "code",
   "execution_count": 25,
   "id": "28ea20a6",
   "metadata": {
    "ExecuteTime": {
     "end_time": "2022-12-03T05:08:25.281281Z",
     "start_time": "2022-12-03T05:08:25.279047Z"
    }
   },
   "outputs": [],
   "source": [
    "from string import ascii_lowercase, ascii_uppercase"
   ]
  },
  {
   "cell_type": "code",
   "execution_count": 34,
   "id": "9625c15e",
   "metadata": {
    "ExecuteTime": {
     "end_time": "2022-12-03T05:10:34.384671Z",
     "start_time": "2022-12-03T05:10:34.381611Z"
    }
   },
   "outputs": [],
   "source": [
    "item_priorities = {**{letter:i for i,letter in enumerate(ascii_lowercase, start=1)}, **{letter:i for i,letter in enumerate(ascii_uppercase, start=27)}}"
   ]
  },
  {
   "cell_type": "code",
   "execution_count": 49,
   "id": "4aefa988",
   "metadata": {
    "ExecuteTime": {
     "end_time": "2022-12-03T05:14:58.141268Z",
     "start_time": "2022-12-03T05:14:58.131402Z"
    }
   },
   "outputs": [],
   "source": [
    "total_priority=0\n",
    "for rucksack in input_data.splitlines():\n",
    "    compartment_1_items = defaultdict(lambda: 0)\n",
    "    compartment_2_items = defaultdict(lambda: 0)\n",
    "    compartment_both_items = defaultdict(lambda: 0)\n",
    "\n",
    "    rucksack_compartment_1 = rucksack[:len(rucksack)//2]\n",
    "    rucksack_compartment_2 = rucksack[len(rucksack)//2:]\n",
    "\n",
    "\n",
    "    for items_1 in rucksack_compartment_1:\n",
    "        compartment_1_items[items_1]+=1\n",
    "\n",
    "    for items_2 in rucksack_compartment_2:\n",
    "        compartment_2_items[items_2]+=1\n",
    "\n",
    "    for letter1, quantity1 in compartment_1_items.items():\n",
    "        for letter2, quantity2 in compartment_2_items.items():\n",
    "            if letter1==letter2:\n",
    "                compartment_both_items[letter1] = (quantity1, quantity2)\n",
    "    for letter, (quantity1, quantity2) in compartment_both_items.items():\n",
    "        total_priority+=item_priorities[letter]"
   ]
  },
  {
   "cell_type": "code",
   "execution_count": 51,
   "id": "77ce51a9",
   "metadata": {
    "ExecuteTime": {
     "end_time": "2022-12-03T05:17:05.422467Z",
     "start_time": "2022-12-03T05:17:05.417334Z"
    }
   },
   "outputs": [
    {
     "data": {
      "text/plain": [
       "'snRRRdJsZgphCWlWtmJSjWWzjt'"
      ]
     },
     "execution_count": 51,
     "metadata": {},
     "output_type": "execute_result"
    }
   ],
   "source": [
    "rucksack"
   ]
  },
  {
   "cell_type": "code",
   "execution_count": 50,
   "id": "0ba92ce3",
   "metadata": {
    "ExecuteTime": {
     "end_time": "2022-12-03T05:15:00.492477Z",
     "start_time": "2022-12-03T05:15:00.489402Z"
    }
   },
   "outputs": [
    {
     "data": {
      "text/plain": [
       "7863"
      ]
     },
     "execution_count": 50,
     "metadata": {},
     "output_type": "execute_result"
    }
   ],
   "source": [
    "total_priority"
   ]
  },
  {
   "cell_type": "markdown",
   "id": "7890bccb",
   "metadata": {
    "ExecuteTime": {
     "end_time": "2022-12-01T16:23:22.851643Z",
     "start_time": "2022-12-01T16:23:22.842360Z"
    }
   },
   "source": [
    "### Problem #2"
   ]
  },
  {
   "cell_type": "code",
   "execution_count": 58,
   "id": "758c8046",
   "metadata": {
    "ExecuteTime": {
     "end_time": "2022-12-03T05:19:42.684367Z",
     "start_time": "2022-12-03T05:19:42.682262Z"
    }
   },
   "outputs": [],
   "source": [
    "tmp = input_data.splitlines()"
   ]
  },
  {
   "cell_type": "code",
   "execution_count": 60,
   "id": "582cdea1",
   "metadata": {
    "ExecuteTime": {
     "end_time": "2022-12-03T05:20:20.640997Z",
     "start_time": "2022-12-03T05:20:20.636507Z"
    }
   },
   "outputs": [],
   "source": [
    "input_val = input_data.splitlines()"
   ]
  },
  {
   "cell_type": "code",
   "execution_count": 74,
   "id": "8cd1f041",
   "metadata": {
    "ExecuteTime": {
     "end_time": "2022-12-03T05:24:05.920068Z",
     "start_time": "2022-12-03T05:24:05.816045Z"
    }
   },
   "outputs": [],
   "source": [
    "total_priority=0\n",
    "for i in range(0,len(input_val), 3):\n",
    "    rucksack_1, rucksack_2, rucksack_3 = input_val[i:i+3]\n",
    "\n",
    "    compartment_1_items = defaultdict(lambda: 0)\n",
    "    compartment_2_items = defaultdict(lambda: 0)\n",
    "    compartment_3_items = defaultdict(lambda: 0)\n",
    "    \n",
    "    compartment_all_items = defaultdict(lambda: 0)\n",
    "\n",
    "\n",
    "    for items_1 in rucksack_1:\n",
    "        compartment_1_items[items_1]+=1\n",
    "\n",
    "    for items_2 in rucksack_2:\n",
    "        compartment_2_items[items_2]+=1\n",
    "        \n",
    "    for items_3 in rucksack_3:\n",
    "        compartment_3_items[items_3]+=1\n",
    "\n",
    "    for letter1, quantity1 in compartment_1_items.items():\n",
    "        for letter2, quantity2 in compartment_2_items.items():\n",
    "            for letter3, quantity3 in compartment_3_items.items():\n",
    "                if letter1==letter2:\n",
    "                    if letter1==letter3:\n",
    "                        compartment_all_items[letter1] = (quantity1, quantity2)\n",
    "    for letter, (quantity1, quantity2) in compartment_all_items.items():\n",
    "        total_priority+=item_priorities[letter]"
   ]
  },
  {
   "cell_type": "code",
   "execution_count": 75,
   "id": "5adb44be",
   "metadata": {
    "ExecuteTime": {
     "end_time": "2022-12-03T05:24:07.866338Z",
     "start_time": "2022-12-03T05:24:07.853711Z"
    }
   },
   "outputs": [
    {
     "data": {
      "text/plain": [
       "2488"
      ]
     },
     "execution_count": 75,
     "metadata": {},
     "output_type": "execute_result"
    }
   ],
   "source": [
    "total_priority"
   ]
  }
 ],
 "metadata": {
  "kernelspec": {
   "display_name": "Python 3 (ipykernel)",
   "language": "python",
   "name": "python3"
  },
  "language_info": {
   "codemirror_mode": {
    "name": "ipython",
    "version": 3
   },
   "file_extension": ".py",
   "mimetype": "text/x-python",
   "name": "python",
   "nbconvert_exporter": "python",
   "pygments_lexer": "ipython3",
   "version": "3.9.15"
  }
 },
 "nbformat": 4,
 "nbformat_minor": 5
}
