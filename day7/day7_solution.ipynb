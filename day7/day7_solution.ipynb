{
 "cells": [
  {
   "cell_type": "markdown",
   "id": "26dfc5db",
   "metadata": {},
   "source": [
    "# Day 7 Solution"
   ]
  },
  {
   "cell_type": "code",
   "execution_count": 1,
   "id": "f9c7874b",
   "metadata": {
    "ExecuteTime": {
     "end_time": "2022-12-07T06:42:00.682408Z",
     "start_time": "2022-12-07T06:42:00.664098Z"
    }
   },
   "outputs": [],
   "source": [
    "input_data = open('input_data.txt', newline='\\n').read()"
   ]
  },
  {
   "cell_type": "markdown",
   "id": "a3055216",
   "metadata": {},
   "source": [
    "### Problem #1"
   ]
  },
  {
   "cell_type": "code",
   "execution_count": 2,
   "id": "c51d5932",
   "metadata": {
    "ExecuteTime": {
     "end_time": "2022-12-07T06:42:00.699849Z",
     "start_time": "2022-12-07T06:42:00.686475Z"
    }
   },
   "outputs": [],
   "source": [
    "from collections import defaultdict"
   ]
  },
  {
   "cell_type": "code",
   "execution_count": 3,
   "id": "a5a13b76",
   "metadata": {
    "ExecuteTime": {
     "end_time": "2022-12-07T06:42:00.712891Z",
     "start_time": "2022-12-07T06:42:00.702685Z"
    }
   },
   "outputs": [],
   "source": [
    "class Directory:\n",
    "    def __init__(self, name, parent_dir, dir_dict):\n",
    "        self.files = []\n",
    "        self.child_dirs = []\n",
    "        self.name = name\n",
    "        self.parent_dir = parent_dir\n",
    "        self.dir_dict = dir_dict\n",
    "        \n",
    "    @property\n",
    "    def total_file_size(self):\n",
    "        total_size = 0\n",
    "        total_size += sum([file.size for file in self.files])\n",
    "        return total_size\n",
    "    \n",
    "    @property\n",
    "    def total_size(self):\n",
    "        if len(self.child_dirs)==0:\n",
    "            return self.total_file_size\n",
    "        else:\n",
    "            return self.total_file_size + sum([self.dir_dict[child].total_size for child in self.child_dirs])\n",
    "        \n",
    "    def __add__(self, other):\n",
    "        return str(self) + other\n",
    "    \n",
    "    def __radd__(self, other):\n",
    "        return str(self) + other\n",
    "    \n",
    "    def __repr__(self):\n",
    "        output = ''\n",
    "        if self.parent_dir:\n",
    "            output+=self.parent_dir\n",
    "        return output+self.name+\"/\""
   ]
  },
  {
   "cell_type": "code",
   "execution_count": 4,
   "id": "57499c11",
   "metadata": {
    "ExecuteTime": {
     "end_time": "2022-12-07T06:42:00.729328Z",
     "start_time": "2022-12-07T06:42:00.716970Z"
    }
   },
   "outputs": [],
   "source": [
    "class File:\n",
    "    def __init__(self, name, size, parent_dir=None):\n",
    "        self.name = name\n",
    "        self.size = size\n",
    "        self.parent_dir = parent_dir\n",
    "        \n",
    "    def __repr__(self):\n",
    "        return f\"{self.name}-{self.size}\""
   ]
  },
  {
   "cell_type": "code",
   "execution_count": 5,
   "id": "8b8e8450",
   "metadata": {
    "ExecuteTime": {
     "end_time": "2022-12-07T06:42:00.737221Z",
     "start_time": "2022-12-07T06:42:00.731194Z"
    }
   },
   "outputs": [],
   "source": [
    "sample=\"\"\"$ cd /\n",
    "$ ls\n",
    "dir a\n",
    "14848514 b.txt\n",
    "8504156 c.dat\n",
    "dir d\n",
    "$ cd a\n",
    "$ ls\n",
    "dir e\n",
    "29116 f\n",
    "2557 g\n",
    "62596 h.lst\n",
    "$ cd e\n",
    "$ ls\n",
    "584 i\n",
    "$ cd ..\n",
    "$ cd ..\n",
    "$ cd d\n",
    "$ ls\n",
    "4060174 j\n",
    "8033020 d.log\n",
    "5626152 d.ext\n",
    "7214296 k\n",
    "\"\"\""
   ]
  },
  {
   "cell_type": "code",
   "execution_count": 6,
   "id": "6470967d",
   "metadata": {
    "ExecuteTime": {
     "end_time": "2022-12-07T06:42:00.748640Z",
     "start_time": "2022-12-07T06:42:00.738632Z"
    }
   },
   "outputs": [],
   "source": [
    "dir_dict = {}\n",
    "\n",
    "parent_dir = None\n",
    "for row in input_data.splitlines():\n",
    "# for row in sample.splitlines():\n",
    "    ;\n",
    "    line = row.split()\n",
    "    if line[0]=='$':\n",
    "        command = line[1]\n",
    "        if command == 'cd':\n",
    "            directory_path = line[2]\n",
    "            if directory_path=='..':\n",
    "                parent_dir = parent_dir.parent_dir\n",
    "                continue\n",
    "            dir_dict[str(parent_dir)+directory_path] = Directory(directory_path, parent_dir, dir_dict)\n",
    "            parent_dir = dir_dict[str(parent_dir)+directory_path]\n",
    "    else:\n",
    "        fsize, name = row.split()\n",
    "        if fsize=='dir':\n",
    "            parent_dir.child_dirs+=[str(parent_dir)+name]\n",
    "        else:\n",
    "            file = File(name, int(fsize))\n",
    "            parent_dir.files+=[file]"
   ]
  },
  {
   "cell_type": "code",
   "execution_count": 7,
   "id": "ce117026",
   "metadata": {
    "ExecuteTime": {
     "end_time": "2022-12-07T06:42:00.765373Z",
     "start_time": "2022-12-07T06:42:00.749927Z"
    }
   },
   "outputs": [
    {
     "data": {
      "text/plain": [
       "[fcfqp.hpq-73403]"
      ]
     },
     "execution_count": 7,
     "metadata": {},
     "output_type": "execute_result"
    }
   ],
   "source": [
    "parent_dir.files"
   ]
  },
  {
   "cell_type": "code",
   "execution_count": 8,
   "id": "c9f51fd1",
   "metadata": {
    "ExecuteTime": {
     "end_time": "2022-12-07T06:42:00.777995Z",
     "start_time": "2022-12-07T06:42:00.766890Z"
    }
   },
   "outputs": [
    {
     "data": {
      "text/plain": [
       "{'None/': //,\n",
       " '//bjrbjh': //bjrbjh/,\n",
       " '//dppgvlh': //dppgvlh/,\n",
       " '//dppgvlh/rtdnhb': //dppgvlh/rtdnhb/,\n",
       " '//fcfqp': //fcfqp/,\n",
       " '//fcfqp/cts': //fcfqp/cts/,\n",
       " '//fcfqp/gjzdf': //fcfqp/gjzdf/,\n",
       " '//fcfqp/gjzdf/fcfqp': //fcfqp/gjzdf/fcfqp/,\n",
       " '//fcfqp/hvsnr': //fcfqp/hvsnr/,\n",
       " '//fcfqp/hvsnr/sftjlqbm': //fcfqp/hvsnr/sftjlqbm/,\n",
       " '//fcfqp/qmsllmtw': //fcfqp/qmsllmtw/,\n",
       " '//fcfqp/rpvstz': //fcfqp/rpvstz/,\n",
       " '//fcfqp/rpvstz/nccm': //fcfqp/rpvstz/nccm/,\n",
       " '//fcfqp/rpvstz/tsstr': //fcfqp/rpvstz/tsstr/,\n",
       " '//fcfqp/vbhh': //fcfqp/vbhh/,\n",
       " '//fcfqp/vbhh/rpvstz': //fcfqp/vbhh/rpvstz/,\n",
       " '//fcfqp/vbhh/rpvstz/fcfqp': //fcfqp/vbhh/rpvstz/fcfqp/,\n",
       " '//fcfqp/vbhh/rpvstz/fcfqp/hrhftz': //fcfqp/vbhh/rpvstz/fcfqp/hrhftz/,\n",
       " '//fcfqp/vbhh/rpvstz/nzg': //fcfqp/vbhh/rpvstz/nzg/,\n",
       " '//fcfqp/vbhh/rpvstz/nzg/qsbpc': //fcfqp/vbhh/rpvstz/nzg/qsbpc/,\n",
       " '//fcfqp/vbhh/rpvstz/pmhprnbb': //fcfqp/vbhh/rpvstz/pmhprnbb/,\n",
       " '//fcfqp/vbhh/rpvstz/szshbn': //fcfqp/vbhh/rpvstz/szshbn/,\n",
       " '//fcfqp/vbhh/scsclh': //fcfqp/vbhh/scsclh/,\n",
       " '//fcfqp/vbhh/scsclh/rdznzm': //fcfqp/vbhh/scsclh/rdznzm/,\n",
       " '//fcfqp/vbhh/scsclh/rdznzm/hthgb': //fcfqp/vbhh/scsclh/rdznzm/hthgb/,\n",
       " '//fcfqp/vbhh/scsclh/rdznzm/vgfhz': //fcfqp/vbhh/scsclh/rdznzm/vgfhz/,\n",
       " '//fcfqp/zwllwsq': //fcfqp/zwllwsq/,\n",
       " '//fcfqp/zwllwsq/bmgpnmbt': //fcfqp/zwllwsq/bmgpnmbt/,\n",
       " '//fcfqp/zwllwsq/bmgpnmbt/fcfqp': //fcfqp/zwllwsq/bmgpnmbt/fcfqp/,\n",
       " '//fcfqp/zwllwsq/fbphbmbb': //fcfqp/zwllwsq/fbphbmbb/,\n",
       " '//fcfqp/zwllwsq/fbphbmbb/fpnwjb': //fcfqp/zwllwsq/fbphbmbb/fpnwjb/,\n",
       " '//fcfqp/zwllwsq/fbphbmbb/hqvhrpnv': //fcfqp/zwllwsq/fbphbmbb/hqvhrpnv/,\n",
       " '//fcfqp/zwllwsq/fbphbmbb/hqvhrpnv/drpffn': //fcfqp/zwllwsq/fbphbmbb/hqvhrpnv/drpffn/,\n",
       " '//fcfqp/zwllwsq/fbphbmbb/hqvhrpnv/fvqzjjhp': //fcfqp/zwllwsq/fbphbmbb/hqvhrpnv/fvqzjjhp/,\n",
       " '//fcfqp/zwllwsq/fbphbmbb/hqvhrpnv/fvqzjjhp/qtc': //fcfqp/zwllwsq/fbphbmbb/hqvhrpnv/fvqzjjhp/qtc/,\n",
       " '//fcfqp/zwllwsq/fbphbmbb/hqvhrpnv/szdbbtw': //fcfqp/zwllwsq/fbphbmbb/hqvhrpnv/szdbbtw/,\n",
       " '//fcfqp/zwllwsq/fbphbmbb/hqvhrpnv/szdbbtw/fcfqp': //fcfqp/zwllwsq/fbphbmbb/hqvhrpnv/szdbbtw/fcfqp/,\n",
       " '//fcfqp/zwllwsq/fbphbmbb/hqvhrpnv/vvrhmrbs': //fcfqp/zwllwsq/fbphbmbb/hqvhrpnv/vvrhmrbs/,\n",
       " '//fcfqp/zwllwsq/fbphbmbb/hqvhrpnv/vvrhmrbs/sqwfj': //fcfqp/zwllwsq/fbphbmbb/hqvhrpnv/vvrhmrbs/sqwfj/,\n",
       " '//fcfqp/zwllwsq/fbphbmbb/hqvhrpnv/vvrhmrbs/sqwfj/chjpwmb': //fcfqp/zwllwsq/fbphbmbb/hqvhrpnv/vvrhmrbs/sqwfj/chjpwmb/,\n",
       " '//fcfqp/zwllwsq/fbphbmbb/jbm': //fcfqp/zwllwsq/fbphbmbb/jbm/,\n",
       " '//fcfqp/zwllwsq/fbphbmbb/jbm/jwbrhmzj': //fcfqp/zwllwsq/fbphbmbb/jbm/jwbrhmzj/,\n",
       " '//fcfqp/zwllwsq/fbphbmbb/jbm/tsstr': //fcfqp/zwllwsq/fbphbmbb/jbm/tsstr/,\n",
       " '//fcfqp/zwllwsq/fbphbmbb/jbm/tsstr/rmbpb': //fcfqp/zwllwsq/fbphbmbb/jbm/tsstr/rmbpb/,\n",
       " '//fcfqp/zwllwsq/fbphbmbb/jsfscjd': //fcfqp/zwllwsq/fbphbmbb/jsfscjd/,\n",
       " '//fcfqp/zwllwsq/fbphbmbb/jsfscjd/tws': //fcfqp/zwllwsq/fbphbmbb/jsfscjd/tws/,\n",
       " '//fcfqp/zwllwsq/fbphbmbb/qmpbb': //fcfqp/zwllwsq/fbphbmbb/qmpbb/,\n",
       " '//fcfqp/zwllwsq/fbphbmbb/sjhrg': //fcfqp/zwllwsq/fbphbmbb/sjhrg/,\n",
       " '//fcfqp/zwllwsq/fbphbmbb/sjhrg/dbdc': //fcfqp/zwllwsq/fbphbmbb/sjhrg/dbdc/,\n",
       " '//fcfqp/zwllwsq/fbphbmbb/sjhrg/jprmnvv': //fcfqp/zwllwsq/fbphbmbb/sjhrg/jprmnvv/,\n",
       " '//fcfqp/zwllwsq/fbphbmbb/sjhrg/wbqrzrcd': //fcfqp/zwllwsq/fbphbmbb/sjhrg/wbqrzrcd/,\n",
       " '//fcfqp/zwllwsq/fbphbmbb/tsstr': //fcfqp/zwllwsq/fbphbmbb/tsstr/,\n",
       " '//fcfqp/zwllwsq/hqvhrpnv': //fcfqp/zwllwsq/hqvhrpnv/,\n",
       " '//mtbt': //mtbt/,\n",
       " '//mtbt/gtgdhl': //mtbt/gtgdhl/,\n",
       " '//mtbt/hqvhrpnv': //mtbt/hqvhrpnv/,\n",
       " '//mtbt/hqvhrpnv/dzrlrdc': //mtbt/hqvhrpnv/dzrlrdc/,\n",
       " '//mtbt/hqvhrpnv/fcfqp': //mtbt/hqvhrpnv/fcfqp/,\n",
       " '//mtbt/hqvhrpnv/spz': //mtbt/hqvhrpnv/spz/,\n",
       " '//mtbt/pdhn': //mtbt/pdhn/,\n",
       " '//mtbt/pdhn/rjgsq': //mtbt/pdhn/rjgsq/,\n",
       " '//mtbt/ptmpqgj': //mtbt/ptmpqgj/,\n",
       " '//mtbt/ptmpqgj/rpvstz': //mtbt/ptmpqgj/rpvstz/,\n",
       " '//mtbt/ptmpqgj/wqtnzw': //mtbt/ptmpqgj/wqtnzw/,\n",
       " '//mtbt/qfdmhqhm': //mtbt/qfdmhqhm/,\n",
       " '//mtbt/tsstr': //mtbt/tsstr/,\n",
       " '//mtbt/ttjltb': //mtbt/ttjltb/,\n",
       " '//qtfmf': //qtfmf/,\n",
       " '//qtfmf/hrl': //qtfmf/hrl/,\n",
       " '//qtfmf/hrl/dwgnv': //qtfmf/hrl/dwgnv/,\n",
       " '//qtfmf/hrl/dwgnv/mrhvqqc': //qtfmf/hrl/dwgnv/mrhvqqc/,\n",
       " '//qtfmf/hrl/lgn': //qtfmf/hrl/lgn/,\n",
       " '//qtfmf/hrl/qhcjcc': //qtfmf/hrl/qhcjcc/,\n",
       " '//qtfmf/hrl/rpvstz': //qtfmf/hrl/rpvstz/,\n",
       " '//qtfmf/hrl/rpvstz/hqvhrpnv': //qtfmf/hrl/rpvstz/hqvhrpnv/,\n",
       " '//qtfmf/hrl/rpvstz/rpvstz': //qtfmf/hrl/rpvstz/rpvstz/,\n",
       " '//qtfmf/hrl/rpvstz/tbdnjbmr': //qtfmf/hrl/rpvstz/tbdnjbmr/,\n",
       " '//qtfmf/hrl/zrqf': //qtfmf/hrl/zrqf/,\n",
       " '//qtfmf/hrl/zrqf/fcfqp': //qtfmf/hrl/zrqf/fcfqp/,\n",
       " '//qtfmf/hrl/zrqf/vrp': //qtfmf/hrl/zrqf/vrp/,\n",
       " '//qtfmf/mnb': //qtfmf/mnb/,\n",
       " '//qtfmf/mnb/tsstr': //qtfmf/mnb/tsstr/,\n",
       " '//qtfmf/rfghjdj': //qtfmf/rfghjdj/,\n",
       " '//qtfmf/tsstr': //qtfmf/tsstr/,\n",
       " '//qtfmf/tsstr/cjdbwvn': //qtfmf/tsstr/cjdbwvn/,\n",
       " '//qtfmf/tsstr/cjdbwvn/hqvhrpnv': //qtfmf/tsstr/cjdbwvn/hqvhrpnv/,\n",
       " '//qtfmf/tsstr/lsv': //qtfmf/tsstr/lsv/,\n",
       " '//qtfmf/tsstr/lsv/vdltrlzg': //qtfmf/tsstr/lsv/vdltrlzg/,\n",
       " '//qtfmf/tsstr/lsv/vdltrlzg/nlchndbr': //qtfmf/tsstr/lsv/vdltrlzg/nlchndbr/,\n",
       " '//qtfmf/wqtnzw': //qtfmf/wqtnzw/,\n",
       " '//qtfmf/wqtnzw/hqvhrpnv': //qtfmf/wqtnzw/hqvhrpnv/,\n",
       " '//sfjrs': //sfjrs/,\n",
       " '//sfjrs/cgl': //sfjrs/cgl/,\n",
       " '//sfjrs/cgl/tdwn': //sfjrs/cgl/tdwn/,\n",
       " '//sfjrs/cjjls': //sfjrs/cjjls/,\n",
       " '//sfjrs/cjjls/hgppstcv': //sfjrs/cjjls/hgppstcv/,\n",
       " '//sfjrs/rfwnnr': //sfjrs/rfwnnr/,\n",
       " '//sfjrs/rpvstz': //sfjrs/rpvstz/,\n",
       " '//sfjrs/tsstr': //sfjrs/tsstr/,\n",
       " '//trtl': //trtl/,\n",
       " '//trtl/dflwctzs': //trtl/dflwctzs/,\n",
       " '//trtl/gsl': //trtl/gsl/,\n",
       " '//trtl/gsl/gmlp': //trtl/gsl/gmlp/,\n",
       " '//trtl/gsl/mjrs': //trtl/gsl/mjrs/,\n",
       " '//trtl/gsl/rpvstz': //trtl/gsl/rpvstz/,\n",
       " '//trtl/jlfrcp': //trtl/jlfrcp/,\n",
       " '//trtl/jlfrcp/fcfqp': //trtl/jlfrcp/fcfqp/,\n",
       " '//trtl/jlfrcp/fcfqp/tdflqz': //trtl/jlfrcp/fcfqp/tdflqz/,\n",
       " '//trtl/jlfrcp/fcfqp/tdflqz/dtvnrl': //trtl/jlfrcp/fcfqp/tdflqz/dtvnrl/,\n",
       " '//trtl/jlfrcp/fcfqp/thjdsqmw': //trtl/jlfrcp/fcfqp/thjdsqmw/,\n",
       " '//trtl/jlfrcp/fcfqp/thjdsqmw/chhf': //trtl/jlfrcp/fcfqp/thjdsqmw/chhf/,\n",
       " '//trtl/jlfrcp/fcfqp/thjdsqmw/hsnrrc': //trtl/jlfrcp/fcfqp/thjdsqmw/hsnrrc/,\n",
       " '//trtl/jlfrcp/fcfqp/thjdsqmw/hsnrrc/bphrpw': //trtl/jlfrcp/fcfqp/thjdsqmw/hsnrrc/bphrpw/,\n",
       " '//trtl/jlfrcp/fcfqp/thjdsqmw/hsnrrc/bphrpw/brj': //trtl/jlfrcp/fcfqp/thjdsqmw/hsnrrc/bphrpw/brj/,\n",
       " '//trtl/jlfrcp/fcfqp/thjdsqmw/hsnrrc/bphrpw/hqvhrpnv': //trtl/jlfrcp/fcfqp/thjdsqmw/hsnrrc/bphrpw/hqvhrpnv/,\n",
       " '//trtl/jlfrcp/fcfqp/thjdsqmw/hsnrrc/bphrpw/hqvhrpnv/fsvgbd': //trtl/jlfrcp/fcfqp/thjdsqmw/hsnrrc/bphrpw/hqvhrpnv/fsvgbd/,\n",
       " '//trtl/jlfrcp/fcfqp/thjdsqmw/hsnrrc/bphrpw/rpvstz': //trtl/jlfrcp/fcfqp/thjdsqmw/hsnrrc/bphrpw/rpvstz/,\n",
       " '//trtl/jlfrcp/fcfqp/thjdsqmw/hsnrrc/dmjvnrhz': //trtl/jlfrcp/fcfqp/thjdsqmw/hsnrrc/dmjvnrhz/,\n",
       " '//trtl/jlfrcp/fcfqp/thjdsqmw/hsnrrc/dmjvnrhz/mlh': //trtl/jlfrcp/fcfqp/thjdsqmw/hsnrrc/dmjvnrhz/mlh/,\n",
       " '//trtl/jlfrcp/fcfqp/thjdsqmw/hsnrrc/rpvstz': //trtl/jlfrcp/fcfqp/thjdsqmw/hsnrrc/rpvstz/,\n",
       " '//trtl/jlfrcp/fcfqp/thjdsqmw/hsnrrc/wqtnzw': //trtl/jlfrcp/fcfqp/thjdsqmw/hsnrrc/wqtnzw/,\n",
       " '//trtl/jlfrcp/fcfqp/thjdsqmw/tsstr': //trtl/jlfrcp/fcfqp/thjdsqmw/tsstr/,\n",
       " '//trtl/jlfrcp/fcfqp/thjdsqmw/tsstr/rpvstz': //trtl/jlfrcp/fcfqp/thjdsqmw/tsstr/rpvstz/,\n",
       " '//trtl/jlfrcp/fcfqp/thjdsqmw/wqtnzw': //trtl/jlfrcp/fcfqp/thjdsqmw/wqtnzw/,\n",
       " '//trtl/jlfrcp/fcfqp/thjdsqmw/wqtnzw/hwpdsfg': //trtl/jlfrcp/fcfqp/thjdsqmw/wqtnzw/hwpdsfg/,\n",
       " '//trtl/jlfrcp/fcfqp/thjdsqmw/wqtnzw/mrn': //trtl/jlfrcp/fcfqp/thjdsqmw/wqtnzw/mrn/,\n",
       " '//trtl/jlfrcp/hmlmvqc': //trtl/jlfrcp/hmlmvqc/,\n",
       " '//trtl/jlfrcp/pqmfswh': //trtl/jlfrcp/pqmfswh/,\n",
       " '//trtl/jlfrcp/qghq': //trtl/jlfrcp/qghq/,\n",
       " '//trtl/jlfrcp/trhs': //trtl/jlfrcp/trhs/,\n",
       " '//trtl/jlfrcp/trhs/bnrqbrv': //trtl/jlfrcp/trhs/bnrqbrv/,\n",
       " '//trtl/jlfrcp/trhs/snd': //trtl/jlfrcp/trhs/snd/,\n",
       " '//trtl/jlfrcp/tsstr': //trtl/jlfrcp/tsstr/,\n",
       " '//trtl/jlfrcp/tsstr/cdvgvc': //trtl/jlfrcp/tsstr/cdvgvc/,\n",
       " '//trtl/jlfrcp/tsstr/cdvgvc/gvssnh': //trtl/jlfrcp/tsstr/cdvgvc/gvssnh/,\n",
       " '//trtl/jlfrcp/tsstr/cdvgvc/nhrvzn': //trtl/jlfrcp/tsstr/cdvgvc/nhrvzn/,\n",
       " '//trtl/jlfrcp/tsstr/cdvgvc/nhrvzn/hqvhrpnv': //trtl/jlfrcp/tsstr/cdvgvc/nhrvzn/hqvhrpnv/,\n",
       " '//trtl/jlfrcp/tsstr/cdvgvc/nhrvzn/nlv': //trtl/jlfrcp/tsstr/cdvgvc/nhrvzn/nlv/,\n",
       " '//trtl/jlfrcp/tsstr/cdvgvc/rpvstz': //trtl/jlfrcp/tsstr/cdvgvc/rpvstz/,\n",
       " '//trtl/jlfrcp/tsstr/cdvgvc/wqtnzw': //trtl/jlfrcp/tsstr/cdvgvc/wqtnzw/,\n",
       " '//trtl/jlfrcp/tsstr/cdvgvc/wqtnzw/pgnzftwn': //trtl/jlfrcp/tsstr/cdvgvc/wqtnzw/pgnzftwn/,\n",
       " '//trtl/jlfrcp/tsstr/cdvgvc/wqtnzw/pgnzftwn/njtgddhw': //trtl/jlfrcp/tsstr/cdvgvc/wqtnzw/pgnzftwn/njtgddhw/,\n",
       " '//trtl/jlfrcp/tsstr/mbmn': //trtl/jlfrcp/tsstr/mbmn/,\n",
       " '//trtl/jlfrcp/tsstr/mprbjtnd': //trtl/jlfrcp/tsstr/mprbjtnd/,\n",
       " '//trtl/jlfrcp/tsstr/rvwqgn': //trtl/jlfrcp/tsstr/rvwqgn/,\n",
       " '//trtl/jlfrcp/tsstr/tvtddch': //trtl/jlfrcp/tsstr/tvtddch/,\n",
       " '//trtl/pfnlc': //trtl/pfnlc/,\n",
       " '//trtl/pfnlc/vdsjh': //trtl/pfnlc/vdsjh/,\n",
       " '//trtl/pfnlc/wfvgc': //trtl/pfnlc/wfvgc/,\n",
       " '//trtl/pjj': //trtl/pjj/,\n",
       " '//trtl/pjj/wzv': //trtl/pjj/wzv/,\n",
       " '//trtl/vmjljc': //trtl/vmjljc/,\n",
       " '//trtl/vmjljc/blm': //trtl/vmjljc/blm/,\n",
       " '//trtl/vmjljc/blm/hqvhrpnv': //trtl/vmjljc/blm/hqvhrpnv/,\n",
       " '//trtl/vmjljc/blm/hqvhrpnv/tsstr': //trtl/vmjljc/blm/hqvhrpnv/tsstr/,\n",
       " '//trtl/vmjljc/blm/hqvhrpnv/tsstr/fzrpgcn': //trtl/vmjljc/blm/hqvhrpnv/tsstr/fzrpgcn/,\n",
       " '//trtl/vmjljc/blm/hqvhrpnv/wqtnzw': //trtl/vmjljc/blm/hqvhrpnv/wqtnzw/,\n",
       " '//trtl/vmjljc/blm/hqvhrpnv/zphvcch': //trtl/vmjljc/blm/hqvhrpnv/zphvcch/,\n",
       " '//trtl/vmjljc/blm/hqvhrpnv/zphvcch/fcfqp': //trtl/vmjljc/blm/hqvhrpnv/zphvcch/fcfqp/,\n",
       " '//trtl/vmjljc/blm/pvnrmvb': //trtl/vmjljc/blm/pvnrmvb/,\n",
       " '//trtl/vmjljc/blm/pvt': //trtl/vmjljc/blm/pvt/,\n",
       " '//trtl/vmjljc/blm/pvt/lslcvfv': //trtl/vmjljc/blm/pvt/lslcvfv/,\n",
       " '//trtl/vmjljc/blm/pvt/lslcvfv/gmj': //trtl/vmjljc/blm/pvt/lslcvfv/gmj/,\n",
       " '//trtl/vmjljc/blm/pvt/wvhrf': //trtl/vmjljc/blm/pvt/wvhrf/,\n",
       " '//trtl/vmjljc/blm/pvt/wvhrf/nvvpbmgm': //trtl/vmjljc/blm/pvt/wvhrf/nvvpbmgm/,\n",
       " '//trtl/vmjljc/blm/pvt/wvhrf/nvvpbmgm/tllpvrdv': //trtl/vmjljc/blm/pvt/wvhrf/nvvpbmgm/tllpvrdv/,\n",
       " '//trtl/vmjljc/blm/rjpcb': //trtl/vmjljc/blm/rjpcb/,\n",
       " '//trtl/vmjljc/blm/rjpcb/gqql': //trtl/vmjljc/blm/rjpcb/gqql/,\n",
       " '//trtl/vmjljc/blm/srrzgt': //trtl/vmjljc/blm/srrzgt/,\n",
       " '//trtl/vmjljc/blm/srrzgt/bwfnrbs': //trtl/vmjljc/blm/srrzgt/bwfnrbs/,\n",
       " '//trtl/vmjljc/blm/srrzgt/qdctrw': //trtl/vmjljc/blm/srrzgt/qdctrw/,\n",
       " '//trtl/vmjljc/blm/srrzgt/svpm': //trtl/vmjljc/blm/srrzgt/svpm/,\n",
       " '//trtl/vmjljc/blm/srrzgt/tsstr': //trtl/vmjljc/blm/srrzgt/tsstr/,\n",
       " '//trtl/vmjljc/fcfqp': //trtl/vmjljc/fcfqp/,\n",
       " '//trtl/vmjljc/fcfqp/ctbbgw': //trtl/vmjljc/fcfqp/ctbbgw/,\n",
       " '//trtl/vmjljc/fcfqp/rpvstz': //trtl/vmjljc/fcfqp/rpvstz/,\n",
       " '//trtl/vmjljc/frjdzh': //trtl/vmjljc/frjdzh/,\n",
       " '//trtl/vmjljc/scjhzc': //trtl/vmjljc/scjhzc/,\n",
       " '//trtl/vmjljc/tmz': //trtl/vmjljc/tmz/,\n",
       " '//trtl/vmjljc/tmz/tsn': //trtl/vmjljc/tmz/tsn/,\n",
       " '//trtl/vmjljc/tmz/wjszmnp': //trtl/vmjljc/tmz/wjszmnp/,\n",
       " '//trtl/vmjljc/tmz/wjszmnp/pbtmjghf': //trtl/vmjljc/tmz/wjszmnp/pbtmjghf/,\n",
       " '//trtl/vmjljc/tmz/wjszmnp/smbbnl': //trtl/vmjljc/tmz/wjszmnp/smbbnl/,\n",
       " '//trtl/vmjljc/tmz/wjszmnp/smbbnl/wqtnzw': //trtl/vmjljc/tmz/wjszmnp/smbbnl/wqtnzw/,\n",
       " '//trtl/vmjljc/vpvh': //trtl/vmjljc/vpvh/,\n",
       " '//trtl/vmjljc/zcwpb': //trtl/vmjljc/zcwpb/}"
      ]
     },
     "execution_count": 8,
     "metadata": {},
     "output_type": "execute_result"
    }
   ],
   "source": [
    "dir_dict"
   ]
  },
  {
   "cell_type": "code",
   "execution_count": 9,
   "id": "7d775183",
   "metadata": {
    "ExecuteTime": {
     "end_time": "2022-12-07T06:42:00.799636Z",
     "start_time": "2022-12-07T06:42:00.779515Z"
    }
   },
   "outputs": [
    {
     "name": "stdout",
     "output_type": "stream",
     "text": [
      "[mzvb-95962]\n",
      "43562874\n",
      "[ctprm.bpc-80731]\n",
      "80731\n",
      "[bbjw-180122, ctprm.bpc-210923, hhg-304465]\n",
      "991390\n",
      "[ctprm.bpc-295880]\n",
      "295880\n",
      "[hqvhrpnv-61601, hqvhrpnv.sgf-27922, mzvb-191405, nbjp.fdm-263646]\n",
      "11691607\n",
      "[nhzpb-47983]\n",
      "47983\n",
      "[vtrhs.mlh-161310]\n",
      "306722\n",
      "[vcbnl-145412]\n",
      "145412\n",
      "[]\n",
      "96517\n",
      "[qlgp-96517]\n",
      "96517\n",
      "[hhg-172998]\n",
      "172998\n",
      "[]\n",
      "440569\n",
      "[fcfqp-181998]\n",
      "181998\n",
      "[tsstr-258571]\n",
      "258571\n",
      "[ctprm.bpc-317169, vcbnl-307868, zbltwtj-118337]\n",
      "3048733\n",
      "[]\n",
      "1844299\n",
      "[]\n",
      "163301\n",
      "[vlrjptvv.fsr-163301]\n",
      "163301\n",
      "[hhg-230765, ptg.dbs-235220, vtttmhf.dcl-220737]\n",
      "1083587\n",
      "[hqvhrpnv.phh-74559, tqb.wnl-322306]\n",
      "396865\n",
      "[hhg-293892]\n",
      "293892\n",
      "[tsstr.pml-303519]\n",
      "303519\n",
      "[]\n",
      "461060\n",
      "[zjlcp-270085]\n",
      "461060\n",
      "[gjgczrpm.hlw-2762]\n",
      "2762\n",
      "[svplfhqh.rfr-160621, vcbnl-27592]\n",
      "188213\n",
      "[hhg-217873]\n",
      "7033511\n",
      "[hhg-67327, qrgrtg.gtn-175579, rdrtvn-185356]\n",
      "444547\n",
      "[wqtnzw.cvj-16285]\n",
      "16285\n",
      "[tsstr.czd-79487, tvdpb.vss-226172]\n",
      "6295856\n",
      "[pgv.snz-78102, wqtnzw.szw-32886]\n",
      "110988\n",
      "[ctprm.bpc-247435, hqvhrpnv-312573, swbvbwd-103964, trjpn.htm-129434, vgjnhmbc.hcr-33772]\n",
      "1659104\n",
      "[wdhl.dgs-204660]\n",
      "204660\n",
      "[]\n",
      "74576\n",
      "[wgfffz-74576]\n",
      "74576\n",
      "[]\n",
      "56006\n",
      "[bthq.wlm-56006]\n",
      "56006\n",
      "[vcbnl-21051]\n",
      "496684\n",
      "[fcfqp.wrn-170226]\n",
      "475633\n",
      "[ctprm.bpc-305407]\n",
      "305407\n",
      "[fcfqp-138219, mbvpfmgs.lbq-67905, mzvb-125465, vrqpss.qtr-211711]\n",
      "1125914\n",
      "[zqmldh.jwc-22219]\n",
      "22219\n",
      "[ctprm.bpc-141377, jhwr.tvf-28965]\n",
      "560395\n",
      "[mzvb-185176, vcbnl-204877]\n",
      "390053\n",
      "[jqwcrvg-210670, qcv.crz-263796, slcgw.hmz-23224]\n",
      "1050352\n",
      "[dnrswnh-244925, vcbnl-307737]\n",
      "552662\n",
      "[fcfqp.pgc-175766, nnrgl.qtd-155950, rjjw-215226, rpvstz.cls-218856]\n",
      "765798\n",
      "[]\n",
      "663046\n",
      "[cqfmgtr.fpp-159323]\n",
      "159323\n",
      "[ctprm.bpc-314162]\n",
      "314162\n",
      "[mzvb-177804, wfmhd.srn-11757]\n",
      "189561\n",
      "[hhg-303871, mzvb-311124]\n",
      "614995\n",
      "[mzvb-75235]\n",
      "75235\n",
      "[bqvdgj.tdt-277478, hnmvhb.dqb-100015, tsstr.crd-178843, vbqjdj.znj-45660, vch.zrz-204359]\n",
      "4259939\n",
      "[hsjc-305753]\n",
      "305753\n",
      "[cvt.pwb-131065, hqvhrpnv.gjg-175755, jjpnjhqz.wtf-313719, nhr.vtv-3622]\n",
      "1731197\n",
      "[wqtnzw.tpr-65797]\n",
      "65797\n",
      "[hhg-141146]\n",
      "141146\n",
      "[gjgczrpm.hlw-292906, gjn.ptw-202319, vcbnl-311120, wqtnzw-93748]\n",
      "900093\n",
      "[]\n",
      "424\n",
      "[ctprm.bpc-424]\n",
      "424\n",
      "[mdnllcs-10127, npbr-178992]\n",
      "516387\n",
      "[gjnpwldn.jsh-248549, nstp.jpj-31443]\n",
      "279992\n",
      "[mzvb-47276]\n",
      "47276\n",
      "[wqtnzw.qrn-254322]\n",
      "254322\n",
      "[cqbs.thq-265555, ggnr-273707]\n",
      "539262\n",
      "[cmln.qlj-82810, mzvb-23429]\n",
      "106239\n",
      "[hqvhrpnv-108080, qrfjg-85284]\n",
      "4539581\n",
      "[]\n",
      "2823084\n",
      "[]\n",
      "113150\n",
      "[qbhmdfwg.wrt-113150]\n",
      "113150\n",
      "[gzzdwd.wnn-293311]\n",
      "293311\n",
      "[fcfqp-298893, lvb.brw-253573, ndbrjbw.ssq-301515, vmdgmm.gmh-236001, wqtnzw.cqd-124715]\n",
      "1214697\n",
      "[]\n",
      "1194420\n",
      "[vrtgr.vdt-271956]\n",
      "271956\n",
      "[cjcf.rwc-185836, vcbnl-289321]\n",
      "475157\n",
      "[ctprm.bpc-124297, hhg-323010]\n",
      "447307\n",
      "[]\n",
      "7506\n",
      "[cdfldlv.ptw-1896]\n",
      "1896\n",
      "[fmmvbft.rjq-5610]\n",
      "5610\n",
      "[ctprm.bpc-64404]\n",
      "237263\n",
      "[gjgczrpm.hlw-172859]\n",
      "172859\n",
      "[cpfclgj.wqh-78613]\n",
      "78613\n",
      "[gjgczrpm.hlw-135418]\n",
      "1156554\n",
      "[wqtnzw.gcq-264636, zvpwlrbr.nnz-124125]\n",
      "432660\n",
      "[tdzsmzw-43899]\n",
      "43899\n",
      "[hhg-202987, vcbnl-251479]\n",
      "588476\n",
      "[]\n",
      "134010\n",
      "[vcbnl-134010]\n",
      "134010\n",
      "[]\n",
      "50703\n",
      "[ctprm.bpc-50703]\n",
      "50703\n",
      "[hhg-184472, pdswzfq.scs-241700]\n",
      "1565322\n",
      "[]\n",
      "119119\n",
      "[lzqfb.tgc-119119]\n",
      "119119\n",
      "[]\n",
      "505329\n",
      "[bvt-223932, hhg-85898, ppbrb.vtq-195499]\n",
      "505329\n",
      "[gmzchms.wst-96712, mzvb-271527]\n",
      "368239\n",
      "[cbj.mlh-78920]\n",
      "78920\n",
      "[bdlrvwv-17373, vcbnl-50170]\n",
      "67543\n",
      "[hhg-168166, mzvb-97874, qzlwgts-186837, tnb.mpv-132833]\n",
      "20338342\n",
      "[fcfqp.qcg-6196, mrjvtvl.hmm-181057]\n",
      "187253\n",
      "[wqtnzw.hpl-91777]\n",
      "1147285\n",
      "[qmtmtppc-167819, sbn.chs-254187, tbhhgmz.vqs-119156, tptqzrqr.zgh-31966]\n",
      "573128\n",
      "[fcfqp.jgz-167756, tzj.rfb-221559]\n",
      "389315\n",
      "[hhg-93065]\n",
      "93065\n",
      "[mrtwp-256413, mzvb-141186, nvwfhv.rvt-106340, qmmgnjh-274275, wbtf-55881]\n",
      "9989903\n",
      "[fcfqp.dtr-265006, vshqb-136055]\n",
      "3318284\n",
      "[]\n",
      "277524\n",
      "[mzvb-277524]\n",
      "277524\n",
      "[qgt.sdb-218719, twvn-134210]\n",
      "2639699\n",
      "[ctprm.bpc-6278]\n",
      "6278\n",
      "[]\n",
      "1340467\n",
      "[]\n",
      "992188\n",
      "[rpvstz.bqh-13067]\n",
      "13067\n",
      "[ctprm.bpc-148840, hghq.gqm-94116]\n",
      "546159\n",
      "[ctprm.bpc-222743, vwp.nnq-80460]\n",
      "303203\n",
      "[ctprm.bpc-287030, rhpt-145932]\n",
      "432962\n",
      "[]\n",
      "238301\n",
      "[tsstr.vfl-238301]\n",
      "238301\n",
      "[mcv-59172]\n",
      "59172\n",
      "[tlwnzqgb.dqq-50806]\n",
      "50806\n",
      "[]\n",
      "109284\n",
      "[mzvb-109284]\n",
      "109284\n",
      "[rpvstz.pdq-183742]\n",
      "830741\n",
      "[vbbrvhqm.mvj-295333]\n",
      "295333\n",
      "[mzvb-46589, pppwz-235773, rsrbq.qdl-69304]\n",
      "351666\n",
      "[ctprm.bpc-77344, hhg-291828, rpvstz.qfl-226384, tpmdrpg.hcj-10758]\n",
      "606314\n",
      "[bczcpjln.ffs-127361, ctprm.bpc-208033, hqvhrpnv.bzm-144048, pgf.ltz-88561, twj.drs-149879]\n",
      "717882\n",
      "[hqvhrpnv.mqb-165758]\n",
      "165758\n",
      "[rlnln.gcv-177929, rpvstz-60631]\n",
      "505449\n",
      "[ltjjfp-150034]\n",
      "150034\n",
      "[hqvhrpnv-21614, wvtc-95241]\n",
      "116855\n",
      "[tsstr-8263]\n",
      "3842121\n",
      "[hqvhrpnv-121417, hqvhrpnv.dnl-180690, psj.fdv-266104, rww.nbt-278434]\n",
      "2454279\n",
      "[fpqgb.nbl-20979]\n",
      "20979\n",
      "[]\n",
      "962675\n",
      "[hhg-202973]\n",
      "202973\n",
      "[hqvhrpnv-235158, hqvhrpnv.vmg-246378, rfzjcbpv.crc-278166]\n",
      "759702\n",
      "[tsstr.wjh-181642]\n",
      "181642\n",
      "[]\n",
      "442338\n",
      "[sqwmjb-217983, wqtnzw.pzv-149152]\n",
      "442338\n",
      "[fvbr-75203]\n",
      "75203\n",
      "[hhg-82237, hqvhrpnv.hcf-36010]\n",
      "118247\n",
      "[gbrvbz.rgc-23927, hqvhrpnv-20857, zpbhr.svj-203364]\n",
      "248148\n",
      "[fcfqp.mdf-291142, gjgczrpm.hlw-124256, mzvb-235579]\n",
      "650977\n",
      "[dshzl.plf-317689, vphnqd-44518]\n",
      "362207\n",
      "[]\n",
      "518494\n",
      "[pzs-202584]\n",
      "202584\n",
      "[ctmrb.qsq-315910]\n",
      "315910\n",
      "[qhngjlvt.pcb-242824]\n",
      "463974\n",
      "[clrchzw.vbj-221150]\n",
      "221150\n",
      "[dbtnn-31640]\n",
      "7445723\n",
      "[hjsjqbw.rst-249527, slp.gbn-161576, wtps.brr-97355]\n",
      "4499457\n",
      "[]\n",
      "395533\n",
      "[]\n",
      "10603\n",
      "[hhg-10603]\n",
      "10603\n",
      "[ctprm.bpc-56612, fljtffmz.rcl-22521]\n",
      "79133\n",
      "[]\n",
      "305797\n",
      "[ctprm.bpc-171787, mzvb-134010]\n",
      "305797\n",
      "[fcfqp.nzt-100624, mzvb-120945]\n",
      "221569\n",
      "[mzvb-8511, srnqlrn.lvg-81176, ttzwwnn.fmz-315976]\n",
      "1507842\n",
      "[tcbf-13666]\n",
      "187886\n",
      "[drpztfvs.shg-174220]\n",
      "174220\n",
      "[gqggsrc-19033, hhg-270841]\n",
      "914293\n",
      "[pzht-241543, rmhrd-72906]\n",
      "624419\n",
      "[lmqcbbz-309970]\n",
      "309970\n",
      "[fcfqp.gjw-215654, gjgczrpm.hlw-241891, sqjtc-101620]\n",
      "774156\n",
      "[wctr.qnb-214991]\n",
      "214991\n",
      "[hhg-147738]\n",
      "1091899\n",
      "[gpsmlzbp.ghd-133922]\n",
      "133922\n",
      "[ppp-56213]\n",
      "56213\n",
      "[hhg-205352]\n",
      "205352\n",
      "[fcfqp.hlg-248839, lfdlfrhs.vjz-299835]\n",
      "548674\n",
      "[wqtnzw.cts-265076]\n",
      "836635\n",
      "[vcbnl-306172]\n",
      "306172\n",
      "[hhg-40277, mllhtfm.jwd-225110]\n",
      "265387\n",
      "[jlscvz.lsw-69285]\n",
      "69285\n",
      "[gjgczrpm.hlw-221073]\n",
      "221073\n",
      "[fcfqp-35287, mnz.zwd-146224, mzvb-189997, ttwjfbl.jbb-31655, wqtnzw.slq-170705]\n",
      "1644724\n",
      "[mzvb-196121]\n",
      "196121\n",
      "[]\n",
      "874735\n",
      "[vcbnl-151036]\n",
      "151036\n",
      "[mbt-299800]\n",
      "723699\n",
      "[hhg-203547, wqtnzw.dgs-220352]\n",
      "423899\n",
      "[vbgrhzjs.tdb-69506]\n",
      "69506\n",
      "[fcfqp.hpq-73403]\n",
      "73403\n"
     ]
    }
   ],
   "source": [
    "total_size=0\n",
    "for dir_name, current_dir in dir_dict.items():\n",
    "    print(current_dir.files)\n",
    "    print(current_dir.total_size)\n",
    "    if current_dir.total_size<=100000:\n",
    "#         print(current_dir.total_size)\n",
    "        total_size += current_dir.total_size"
   ]
  },
  {
   "cell_type": "code",
   "execution_count": 10,
   "id": "3871a817",
   "metadata": {
    "ExecuteTime": {
     "end_time": "2022-12-07T06:42:00.808560Z",
     "start_time": "2022-12-07T06:42:00.802684Z"
    }
   },
   "outputs": [
    {
     "data": {
      "text/plain": [
       "43562874"
      ]
     },
     "execution_count": 10,
     "metadata": {},
     "output_type": "execute_result"
    }
   ],
   "source": [
    "dir_dict['None/'].total_size"
   ]
  },
  {
   "cell_type": "code",
   "execution_count": 11,
   "id": "23eff89e",
   "metadata": {
    "ExecuteTime": {
     "end_time": "2022-12-07T06:42:00.816675Z",
     "start_time": "2022-12-07T06:42:00.809736Z"
    }
   },
   "outputs": [
    {
     "data": {
      "text/plain": [
       "95962"
      ]
     },
     "execution_count": 11,
     "metadata": {},
     "output_type": "execute_result"
    }
   ],
   "source": [
    "dir_dict['None/'].total_file_size"
   ]
  },
  {
   "cell_type": "code",
   "execution_count": 12,
   "id": "6dfca473",
   "metadata": {
    "ExecuteTime": {
     "end_time": "2022-12-07T06:42:00.829292Z",
     "start_time": "2022-12-07T06:42:00.817749Z"
    }
   },
   "outputs": [
    {
     "data": {
      "text/plain": [
       "[mzvb-95962]"
      ]
     },
     "execution_count": 12,
     "metadata": {},
     "output_type": "execute_result"
    }
   ],
   "source": [
    "dir_dict['None/'].files"
   ]
  },
  {
   "cell_type": "code",
   "execution_count": 13,
   "id": "50c70f7d",
   "metadata": {
    "ExecuteTime": {
     "end_time": "2022-12-07T06:42:00.836918Z",
     "start_time": "2022-12-07T06:42:00.830481Z"
    }
   },
   "outputs": [
    {
     "data": {
      "text/plain": [
       "['//bjrbjh', '//dppgvlh', '//fcfqp', '//mtbt', '//qtfmf', '//sfjrs', '//trtl']"
      ]
     },
     "execution_count": 13,
     "metadata": {},
     "output_type": "execute_result"
    }
   ],
   "source": [
    "dir_dict['None/'].child_dirs"
   ]
  },
  {
   "cell_type": "markdown",
   "id": "57bab8cf",
   "metadata": {
    "ExecuteTime": {
     "end_time": "2022-12-01T16:23:22.851643Z",
     "start_time": "2022-12-01T16:23:22.842360Z"
    }
   },
   "source": [
    "### Problem #2"
   ]
  },
  {
   "cell_type": "code",
   "execution_count": 15,
   "id": "9690fef7",
   "metadata": {
    "ExecuteTime": {
     "end_time": "2022-12-07T06:42:00.853607Z",
     "start_time": "2022-12-07T06:42:00.846013Z"
    }
   },
   "outputs": [
    {
     "data": {
      "text/plain": [
       "43562874"
      ]
     },
     "execution_count": 15,
     "metadata": {},
     "output_type": "execute_result"
    }
   ],
   "source": [
    "dir_dict['None/'].total_size"
   ]
  },
  {
   "cell_type": "code",
   "execution_count": 25,
   "id": "b4199ca8",
   "metadata": {
    "ExecuteTime": {
     "end_time": "2022-12-07T06:44:09.895276Z",
     "start_time": "2022-12-07T06:44:09.887099Z"
    }
   },
   "outputs": [],
   "source": [
    "space_needed = 30000000 - (70000000 - 43562874)"
   ]
  },
  {
   "cell_type": "code",
   "execution_count": 26,
   "id": "18d0f649",
   "metadata": {
    "ExecuteTime": {
     "end_time": "2022-12-07T06:44:10.270827Z",
     "start_time": "2022-12-07T06:44:10.267725Z"
    }
   },
   "outputs": [
    {
     "data": {
      "text/plain": [
       "3562874"
      ]
     },
     "execution_count": 26,
     "metadata": {},
     "output_type": "execute_result"
    }
   ],
   "source": [
    "space_needed"
   ]
  },
  {
   "cell_type": "code",
   "execution_count": 27,
   "id": "4fb19609",
   "metadata": {
    "ExecuteTime": {
     "end_time": "2022-12-07T06:44:11.784768Z",
     "start_time": "2022-12-07T06:44:11.764661Z"
    },
    "scrolled": true
   },
   "outputs": [
    {
     "name": "stdout",
     "output_type": "stream",
     "text": [
      "43562874\n",
      "11691607\n",
      "7033511\n",
      "6295856\n",
      "4259939\n",
      "3842121\n"
     ]
    }
   ],
   "source": [
    "current_size = 99999999999999999\n",
    "for dir_name, current_dir in dir_dict.items():\n",
    "    if current_dir.total_size>=space_needed:\n",
    "        if current_dir.total_size < current_size:\n",
    "            current_size = current_dir.total_size\n",
    "            print(current_size)"
   ]
  },
  {
   "cell_type": "code",
   "execution_count": null,
   "id": "db503e45",
   "metadata": {},
   "outputs": [],
   "source": []
  }
 ],
 "metadata": {
  "gist": {
   "data": {
    "description": "day5/day5_solution.ipynb",
    "public": false
   },
   "id": ""
  },
  "kernelspec": {
   "display_name": "Python 3 (ipykernel)",
   "language": "python",
   "name": "python3"
  },
  "language_info": {
   "codemirror_mode": {
    "name": "ipython",
    "version": 3
   },
   "file_extension": ".py",
   "mimetype": "text/x-python",
   "name": "python",
   "nbconvert_exporter": "python",
   "pygments_lexer": "ipython3",
   "version": "3.9.15"
  }
 },
 "nbformat": 4,
 "nbformat_minor": 5
}
