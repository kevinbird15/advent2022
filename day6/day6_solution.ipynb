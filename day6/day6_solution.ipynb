{
 "cells": [
  {
   "cell_type": "markdown",
   "id": "b3abde96",
   "metadata": {},
   "source": [
    "# Day 6 Solution"
   ]
  },
  {
   "cell_type": "code",
   "execution_count": 1,
   "id": "485edcd4",
   "metadata": {
    "ExecuteTime": {
     "end_time": "2022-12-06T08:52:12.893360Z",
     "start_time": "2022-12-06T08:52:12.867966Z"
    }
   },
   "outputs": [],
   "source": [
    "input_data = open('input_data.txt', newline='\\n').read()"
   ]
  },
  {
   "cell_type": "markdown",
   "id": "8d1073b9",
   "metadata": {},
   "source": [
    "### Problem #1"
   ]
  },
  {
   "cell_type": "code",
   "execution_count": 2,
   "id": "5faa3d22",
   "metadata": {
    "ExecuteTime": {
     "end_time": "2022-12-06T08:52:12.912375Z",
     "start_time": "2022-12-06T08:52:12.902112Z"
    }
   },
   "outputs": [],
   "source": [
    "for i in range(len(input_data)-3):\n",
    "    tmp = input_data[i:i+4]\n",
    "\n",
    "    if len(set(tmp)) == 4:\n",
    "        break"
   ]
  },
  {
   "cell_type": "code",
   "execution_count": 3,
   "id": "1bd76f42",
   "metadata": {
    "ExecuteTime": {
     "end_time": "2022-12-06T08:52:12.928741Z",
     "start_time": "2022-12-06T08:52:12.915534Z"
    }
   },
   "outputs": [
    {
     "data": {
      "text/plain": [
       "'zvpm'"
      ]
     },
     "execution_count": 3,
     "metadata": {},
     "output_type": "execute_result"
    }
   ],
   "source": [
    "tmp"
   ]
  },
  {
   "cell_type": "code",
   "execution_count": 4,
   "id": "ebb3291d",
   "metadata": {
    "ExecuteTime": {
     "end_time": "2022-12-06T08:52:12.938435Z",
     "start_time": "2022-12-06T08:52:12.931597Z"
    }
   },
   "outputs": [
    {
     "data": {
      "text/plain": [
       "1238"
      ]
     },
     "execution_count": 4,
     "metadata": {},
     "output_type": "execute_result"
    }
   ],
   "source": [
    "i+4"
   ]
  },
  {
   "cell_type": "markdown",
   "id": "dc21f11b",
   "metadata": {
    "ExecuteTime": {
     "end_time": "2022-12-01T16:23:22.851643Z",
     "start_time": "2022-12-01T16:23:22.842360Z"
    }
   },
   "source": [
    "### Problem #2"
   ]
  },
  {
   "cell_type": "code",
   "execution_count": 5,
   "id": "841e3dde",
   "metadata": {
    "ExecuteTime": {
     "end_time": "2022-12-06T08:52:12.949089Z",
     "start_time": "2022-12-06T08:52:12.940069Z"
    }
   },
   "outputs": [],
   "source": [
    "for i in range(len(input_data)-13):\n",
    "    tmp = input_data[i:i+14]\n",
    "\n",
    "    if len(set(tmp)) == 14:\n",
    "        break"
   ]
  },
  {
   "cell_type": "code",
   "execution_count": 6,
   "id": "843f5f8f",
   "metadata": {
    "ExecuteTime": {
     "end_time": "2022-12-06T08:52:12.958588Z",
     "start_time": "2022-12-06T08:52:12.950557Z"
    }
   },
   "outputs": [
    {
     "data": {
      "text/plain": [
       "'qspgbzmjnlrdhv'"
      ]
     },
     "execution_count": 6,
     "metadata": {},
     "output_type": "execute_result"
    }
   ],
   "source": [
    "tmp"
   ]
  },
  {
   "cell_type": "code",
   "execution_count": 7,
   "id": "995f5294",
   "metadata": {
    "ExecuteTime": {
     "end_time": "2022-12-06T08:52:12.966961Z",
     "start_time": "2022-12-06T08:52:12.959886Z"
    }
   },
   "outputs": [
    {
     "data": {
      "text/plain": [
       "3037"
      ]
     },
     "execution_count": 7,
     "metadata": {},
     "output_type": "execute_result"
    }
   ],
   "source": [
    "i+14"
   ]
  }
 ],
 "metadata": {
  "gist": {
   "data": {
    "description": "day5/day5_solution.ipynb",
    "public": false
   },
   "id": ""
  },
  "kernelspec": {
   "display_name": "Python 3 (ipykernel)",
   "language": "python",
   "name": "python3"
  },
  "language_info": {
   "codemirror_mode": {
    "name": "ipython",
    "version": 3
   },
   "file_extension": ".py",
   "mimetype": "text/x-python",
   "name": "python",
   "nbconvert_exporter": "python",
   "pygments_lexer": "ipython3",
   "version": "3.9.15"
  }
 },
 "nbformat": 4,
 "nbformat_minor": 5
}
